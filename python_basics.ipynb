{
 "cells": [
  {
   "cell_type": "markdown",
   "metadata": {
    "colab_type": "text",
    "id": "view-in-github"
   },
   "source": [
    "<a href=\"https://colab.research.google.com/github/bindumadhavimaddireddy/machine_learning_handson/blob/master/python_basics.ipynb\" target=\"_parent\"><img src=\"https://colab.research.google.com/assets/colab-badge.svg\" alt=\"Open In Colab\"/></a>"
   ]
  },
  {
   "cell_type": "code",
   "execution_count": null,
   "metadata": {
    "id": "n5wu9EimmReM"
   },
   "outputs": [],
   "source": []
  },
  {
   "cell_type": "markdown",
   "metadata": {
    "id": "EDxhhpWAmW4L",
    "jp-MarkdownHeadingCollapsed": true
   },
   "source": [
    "# Intro to Python\n",
    "\n"
   ]
  },
  {
   "cell_type": "markdown",
   "metadata": {
    "id": "Ez4HAYtwmpW2"
   },
   "source": [
    "\n",
    "\n",
    "*  Python is Interpruted Language\n",
    "*  Python is Dynamic Language - i.e Type of variable is decided during the run time same as javascript\n",
    "\n",
    "\n",
    "\n",
    "\n"
   ]
  },
  {
   "cell_type": "code",
   "execution_count": null,
   "metadata": {
    "colab": {
     "base_uri": "https://localhost:8080/"
    },
    "id": "qgrAp3zJm8MQ",
    "outputId": "979237e8-0ebe-4a8f-f4b5-c61f65af979e"
   },
   "outputs": [
    {
     "name": "stdout",
     "output_type": "stream",
     "text": [
      "Hello World!!!\n",
      "5 Hello 23.466\n"
     ]
    }
   ],
   "source": [
    "#Printing\n",
    "\n",
    "print(\"Hello World!!!\")\n",
    "\n",
    "\"\"\"Multi line comments\"\"\"\n",
    "\n",
    "# Variable\n",
    "\n",
    "x = 5\n",
    "y = \"Hello\"\n",
    "z = 23.466\n",
    "\n",
    "print(x,y,z)"
   ]
  },
  {
   "cell_type": "markdown",
   "metadata": {
    "id": "QTEC4unvsy7H",
    "jp-MarkdownHeadingCollapsed": true
   },
   "source": [
    "# Data Types\n"
   ]
  },
  {
   "cell_type": "markdown",
   "metadata": {
    "id": "7DBOJxQ7iUeY"
   },
   "source": [
    "\n",
    "* Text Type: str\n",
    "* Numeric Type: int, float, complex\n",
    "* Boolean Type: bool\n",
    "* Sequence Types: list, tuple, range\n",
    "* Mapping Type: dict\n",
    "* Set Types: set, fronzenset\n",
    "* Binary Types:\tbytes, bytearray, memoryview\n",
    "* None Type:\tNoneType\n",
    "\n",
    "\n",
    "Notes:\n",
    "\n",
    "1. lists are mutable while tuples are immutable\n",
    "2. FrozenSet -> Immutable version for sets in python\n",
    "3. NoneType - Represents absence of a value\n",
    "4."
   ]
  },
  {
   "cell_type": "code",
   "execution_count": null,
   "metadata": {
    "colab": {
     "base_uri": "https://localhost:8080/"
    },
    "id": "Ic35MrcXp04l",
    "outputId": "13152d09-e76c-43d9-b105-3946085d4810"
   },
   "outputs": [
    {
     "name": "stdout",
     "output_type": "stream",
     "text": [
      "<class 'int'>\n",
      "<class 'str'>\n",
      "<class 'float'>\n",
      "<class 'complex'>\n",
      "<class 'bool'>\n",
      "<class 'list'>\n",
      "<class 'tuple'>\n",
      "range(0, 6)\n",
      "<class 'range'>\n",
      "<class 'dict'>\n",
      "{'apple', 'banana', 'cherry'}\n",
      "<class 'set'>\n",
      "<class 'frozenset'>\n",
      "<class 'bytes'>\n",
      "<class 'bytearray'>\n",
      "<class 'memoryview'>\n",
      "<class 'NoneType'>\n",
      "3\n",
      "2\n",
      "3.0\n",
      "3\n"
     ]
    }
   ],
   "source": [
    "x = 5\n",
    "print(type(x)) # int\n",
    "\n",
    "x = \"hello world\"\n",
    "print(type(x)) # str\n",
    "\n",
    "x = 23.455\n",
    "print(type(x)) # float\n",
    "\n",
    "x = 2 + 3j\n",
    "print(type(x)) # complex\n",
    "\n",
    "x = True\n",
    "print(type(x)) # bool\n",
    "\n",
    "x = [\"apple\", \"banana\", \"cherry\"]\n",
    "print(type(x)) # list\n",
    "\n",
    "x = (\"apple\", \"banana\", \"cherry\")\n",
    "print(type(x)) # tuple\n",
    "\n",
    "x = range(6) # returns 0,1,2,3,4,5\n",
    "print(x) # range(0, 6)\n",
    "print(type(x)) # range\n",
    "\n",
    "x = {\"name\" : \"John\", \"age\" : 36}\n",
    "print(type(x)) # dict\n",
    "\n",
    "x = {\"apple\", \"banana\", \"cherry\", \"cherry\"}\n",
    "print(x) # {'apple', 'banana', 'cherry'}\n",
    "print(type(x)) # set\n",
    "\n",
    "x = frozenset({\"apple\", \"banana\", \"cherry\"})\n",
    "print(type(x)) # frozenset\n",
    "\n",
    "x = b\"Hello\"\n",
    "print(type(x)) # bytes\n",
    "\n",
    "x = bytearray(5)\n",
    "print(type(x)) # bytearray\n",
    "\n",
    "x = memoryview(bytes(5))\n",
    "print(type(x)) # memoryview\n",
    "\n",
    "x = None\n",
    "print(type(x)) # NoneType\n",
    "\n",
    "\n",
    "# Setting Specific Data type\n",
    "\n",
    "x= int(5)\n",
    "x = str(\"Hello\")\n",
    "x= list((\"apple\", \"banana\", \"cherry\"))\n",
    "x= tuple((\"apple\", \"banana\", \"cherry\"))\n",
    "x = set((\"apple\", \"banana\", \"cherry\"))\n",
    "x = dict(name=\"John\", age=25, school=\"jnv\")\n",
    "\n",
    "import random\n",
    "\n",
    "print(random.randrange(1, 10)) # generates random number between 1 to 10\n",
    "\n",
    "\n",
    "# Type Casting\n",
    "\n",
    "print(int(2.3)) # 2\n",
    "print(float(3)) # 3.0\n",
    "print(int(\"3\")) # 3\n"
   ]
  },
  {
   "cell_type": "markdown",
   "metadata": {
    "id": "00f0_5LAvIQb",
    "jp-MarkdownHeadingCollapsed": true
   },
   "source": [
    "# Strings"
   ]
  },
  {
   "cell_type": "code",
   "execution_count": null,
   "metadata": {
    "colab": {
     "base_uri": "https://localhost:8080/"
    },
    "collapsed": true,
    "id": "ov3pTSR6vQq8",
    "jupyter": {
     "outputs_hidden": true
    },
    "outputId": "d0ede5e6-cbda-4036-d078-dfa382a92d8d"
   },
   "outputs": [
    {
     "name": "stdout",
     "output_type": "stream",
     "text": [
      "Hello\n",
      "Hello\n",
      "It's alright\n",
      "He is called 'Johnny'\n",
      "He is called \"Johnny\"\n",
      "Lorem ipsum dolor sit amet,\n",
      "consectetur adipiscing elit,\n",
      "sed do eiusmod tempor incididunt\n",
      "ut labore et dolore magna aliqua.\n",
      "e\n",
      "13\n",
      "b\n",
      "a\n",
      "n\n",
      "a\n",
      "n\n",
      "a\n",
      "True\n",
      "Yes, 'free' is present.\n",
      "True\n"
     ]
    }
   ],
   "source": [
    "print(\"Hello\")\n",
    "print('Hello')\n",
    "\n",
    "# Quotes Inside Quotes\n",
    "print(\"It's alright\")\n",
    "print(\"He is called 'Johnny'\")\n",
    "print('He is called \"Johnny\"')\n",
    "\n",
    "# Multiline Strings\n",
    "\n",
    "a = \"\"\"Lorem ipsum dolor sit amet,\n",
    "consectetur adipiscing elit,\n",
    "sed do eiusmod tempor incididunt\n",
    "ut labore et dolore magna aliqua.\"\"\"\n",
    "print(a)\n",
    "\n",
    "# Strings are Arrays\n",
    "\n",
    "a = \"Hello, World!\"\n",
    "print(a[1]) # e\n",
    "\n",
    "# String Len\n",
    "print(len(a)) # 13\n",
    "\n",
    "# Looping through strings\n",
    "\n",
    "for x in \"banana\":\n",
    "  print(x)\n",
    "\n",
    "# To check if a certain phrase or character is present in a string, we can use the keyword in.\n",
    "\n",
    "txt = \"The best things in life are free!\"\n",
    "print(\"free\" in txt) # True\n",
    "\n",
    "# Print only if \"free\" is present:\n",
    "txt = \"The best things in life are free!\"\n",
    "if \"free\" in txt:\n",
    "  print(\"Yes, 'free' is present.\")\n",
    "\n",
    "# Check if \"expensive\" is NOT present in the following text:\n",
    "\n",
    "txt = \"The best things in life are free!\"\n",
    "print(\"expensive\" not in txt)"
   ]
  },
  {
   "cell_type": "markdown",
   "metadata": {
    "id": "A-4sYF_lytF6"
   },
   "source": [
    "**Slicing Strings**\n",
    "\n",
    "You can return a range of characters by using the slice syntax.\n",
    "\n",
    "Specify the start index and the end index, separated by a colon, to return a part of the string."
   ]
  },
  {
   "cell_type": "code",
   "execution_count": null,
   "metadata": {
    "colab": {
     "base_uri": "https://localhost:8080/"
    },
    "collapsed": true,
    "id": "tF6NgMNFy5Se",
    "jupyter": {
     "outputs_hidden": true
    },
    "outputId": "1ca84744-53ec-4d0b-c9aa-0c66be45d0a6"
   },
   "outputs": [
    {
     "name": "stdout",
     "output_type": "stream",
     "text": [
      "llo\n",
      "Hello\n",
      "llo, World!\n",
      "orl\n"
     ]
    }
   ],
   "source": [
    "# Get the characters from position 2 to position 5 (not included):\n",
    "b = \"Hello, World!\"\n",
    "print(b[2:5]) # ll0\n",
    "\n",
    "# Slice From the Start\n",
    "print(b[:5]) # Hello\n",
    "\n",
    "# Slice to the End ( By leaving out the end index, the range will go to the end:)\n",
    "print(b[2:]) #llo, World!\n",
    "\n",
    "# Negative Indexing\n",
    "# Use negative indexes to start the slice from the end of the string:\n",
    "\n",
    "# Get the characters:\n",
    "\n",
    "# From: \"o\" in \"World!\" (position -5)\n",
    "\n",
    "# To, but not included: \"d\" in \"World!\" (position -2):\n",
    "\n",
    "print(b[-5:-2]) # orl\n"
   ]
  },
  {
   "cell_type": "markdown",
   "metadata": {
    "id": "LPLLSPoB1Fpr"
   },
   "source": [
    "**Modify Strings**\n",
    "\n",
    "\n",
    "For all string methods refer this\n",
    "\n",
    "https://www.w3schools.com/python/python_ref_string.asp\n",
    "\n",
    "**F-Strings**\n",
    "\n",
    "* F-String was introduced in Python 3.6, and is now the preferred way of formatting strings.\n",
    "\n",
    "* To specify a string as an f-string, simply put an f in front of the string literal, and add curly brackets {} as placeholders for variables and other operations.\n",
    "\n",
    "* A placeholder can include a modifier to format the value.\n",
    "\n",
    "* A modifier is included by adding a colon : followed by a legal formatting type, like .2f which means fixed point number with 2 decimals:\n",
    "\n",
    "* A placeholder can contain Python code, like math operations:\n",
    "\n",
    "* For more read this - https://www.w3schools.com/python/python_string_formatting.asp\n"
   ]
  },
  {
   "cell_type": "code",
   "execution_count": null,
   "metadata": {
    "colab": {
     "base_uri": "https://localhost:8080/"
    },
    "collapsed": true,
    "id": "LXllJcnz1KN_",
    "jupyter": {
     "outputs_hidden": true
    },
    "outputId": "0a1643a3-f337-44b6-f00d-14d80aca0be7"
   },
   "outputs": [
    {
     "name": "stdout",
     "output_type": "stream",
     "text": [
      "HELLO, WORLD!\n",
      "hello, world!\n",
      "Hello, World!\n",
      "Jello, World!\n",
      "HellQ, WQrld!\n",
      "['Hello', ' World!']\n",
      "John#Peter#Vicky\n",
      "Hello World\n",
      "My name is John, I am 36\n",
      "The price is 59.00 dollars\n",
      "The price is 1180 dollars\n"
     ]
    }
   ],
   "source": [
    "a = \"Hello, World!\"\n",
    "\n",
    "# Upper Case - upper\n",
    "print(a.upper())\n",
    "\n",
    "# Lower Case - lower\n",
    "print(a.lower())\n",
    "\n",
    "# Remove Whitespaces - strip\n",
    "a = \" Hello, World! \"\n",
    "print(a.strip()) # returns \"Hello, World!\"\n",
    "\n",
    "# Replace String - replace\n",
    "\n",
    "a = \"Hello, World!\"\n",
    "print(a.replace(\"H\", \"J\")) # Jello, World!\n",
    "print(a.replace(\"o\", \"Q\")) # HellQ, WQrld!\n",
    "\n",
    "# Split String - split\n",
    "print(a.split(\",\")) # ['Hello', ' World!']\n",
    "\n",
    "# Join\n",
    "myList = [\"John\", \"Peter\", \"Vicky\"]\n",
    "\n",
    "x = \"#\".join(myList)\n",
    "print(x) # John#Peter#Vicky\n",
    "\n",
    "\n",
    "# String Concat\n",
    "\n",
    "a = \"Hello\"\n",
    "b = \"World\"\n",
    "c = a + \" \" + b\n",
    "print(c)\n",
    "\n",
    "\n",
    "# F Strings\n",
    "age = 36\n",
    "txt = f\"My name is John, I am {age}\"\n",
    "print(txt) # My name is John, I am 36\n",
    "\n",
    "\n",
    "price = 59\n",
    "txt = f\"The price is {price:.2f} dollars\"\n",
    "print(txt) # The price is 59.00 dollars\n",
    "\n",
    "txt = f\"The price is {20 * 59} dollars\"\n",
    "print(txt) # The price is 1180 dollars\n"
   ]
  },
  {
   "cell_type": "markdown",
   "metadata": {
    "id": "kvKfloM34r5T"
   },
   "source": [
    "**Python - Escape Characters**\n",
    "\n",
    "To insert characters that are illegal in a string, use an escape character.\n",
    "\n",
    "An escape character is a backslash \\ followed by the character you want to insert.\n",
    "\n",
    "An example of an illegal character is a double quote inside a string that is surrounded by double quotes:\n",
    "\n",
    "\n",
    "\\'  - Single Quote\n",
    "\n",
    "\\\\\t- Backslash\n",
    "\\n\t- New Line\n",
    "\\r\t- Carriage Return\n",
    "\\t\t- Tab\n",
    "\\b\t- Backspace\n",
    "\\f\t- Form Feed\n",
    "\\ooo\t- Octal value\n",
    "\\xhh\t- Hex value"
   ]
  },
  {
   "cell_type": "code",
   "execution_count": null,
   "metadata": {
    "colab": {
     "base_uri": "https://localhost:8080/"
    },
    "id": "PRgcR4ln40KW",
    "outputId": "71909c6d-5c53-45e2-813b-1320e9c8e1db"
   },
   "outputs": [
    {
     "name": "stdout",
     "output_type": "stream",
     "text": [
      "We are the so-called \"Vikings\" from the north.\n",
      "We are the so-called \n",
      " from the north.\n",
      "We are the so-called \\ from the north.\n",
      "We are the so-called \t from the north.\n",
      "We are the so-called \f",
      " from the north.\n"
     ]
    }
   ],
   "source": [
    "print(\"We are the so-called \\\"Vikings\\\" from the north.\") # We are the so-called \"Vikings\" from the north.\n",
    "print(\"We are the so-called \\n from the north.\")\n",
    "print(\"We are the so-called \\\\ from the north.\")\n",
    "print(\"We are the so-called \\t from the north.\")\n",
    "print(\"We are the so-called \\f from the north.\")"
   ]
  },
  {
   "cell_type": "markdown",
   "metadata": {
    "id": "NN5gT7e46CYJ",
    "jp-MarkdownHeadingCollapsed": true
   },
   "source": [
    "# Boolean\n"
   ]
  },
  {
   "cell_type": "markdown",
   "metadata": {
    "id": "fpspde1eiavj"
   },
   "source": [
    "\n",
    "The following will return True:\n",
    "\n",
    "- bool(\"abc\")\n",
    "- bool(123)\n",
    "- bool([\"apple\", \"cherry\", \"banana\"])\n",
    "\n",
    "\n",
    "The following will return False:\n",
    "\n",
    "- bool(False)\n",
    "- bool(None)\n",
    "- bool(0)\n",
    "- bool(\"\")\n",
    "- bool(())\n",
    "- bool([])\n",
    "- bool({})"
   ]
  },
  {
   "cell_type": "markdown",
   "metadata": {
    "id": "yxmAe5Iu_-kU",
    "jp-MarkdownHeadingCollapsed": true
   },
   "source": [
    "# Operators\n",
    "\n",
    "Python divides the operators in the following groups:\n",
    "\n",
    "- Arithmetic operators\n",
    "- Assignment operators\n",
    "- Comparison operators\n",
    "- Logical operators\n",
    "- Identity operators\n",
    "- Membership operators\n",
    "- Bitwise operators\n",
    "\n",
    "\n"
   ]
  },
  {
   "cell_type": "markdown",
   "metadata": {
    "id": "loKvkZUbmEtM"
   },
   "source": [
    "\n",
    "\n",
    "## Assignment Operators\n",
    "\n",
    "- =\n",
    "- +=\n",
    "- -=\n",
    "- *=\n",
    "- /=\n",
    "- %=\n",
    "- //=\n",
    "- **=\n",
    "- &=\n",
    "- |=\n",
    "- ^=\n",
    "- >>=\n",
    "- <<="
   ]
  },
  {
   "cell_type": "markdown",
   "metadata": {
    "id": "xYesWoGmmB9n"
   },
   "source": [
    "## Arithmetic Operators\n",
    "\n",
    "- Addition x + y\n",
    "-\tSubtraction\tx - y\n",
    "- Multiplication\tx * y\n",
    "- Division\tx / y\n",
    "- Modulus\tx % y\n",
    "- Exponentiation\tx ** y\n",
    "- Floor division\tx // y"
   ]
  },
  {
   "cell_type": "code",
   "execution_count": null,
   "metadata": {
    "colab": {
     "base_uri": "https://localhost:8080/"
    },
    "id": "y3TLVDUODrD2",
    "outputId": "def4bcde-66da-466c-fe44-8e996f64f31d"
   },
   "outputs": [
    {
     "name": "stdout",
     "output_type": "stream",
     "text": [
      "3.3333333333333335\n",
      "3\n",
      "30\n",
      "1\n",
      "3\n",
      "200\n"
     ]
    }
   ],
   "source": [
    "print(10/3) # 3.3333333333333335\n",
    "print(10//3) # 3\n",
    "print(10*3) # 30\n",
    "print(10%3) # 1\n",
    "print(25 >> 3) # 3\n",
    "print(25 << 3) # 200"
   ]
  },
  {
   "cell_type": "markdown",
   "metadata": {
    "id": "CZ0CVNKOmL8N"
   },
   "source": [
    "\n",
    "\n",
    "## Comparision Operators\n",
    "\n",
    "- Equal\tx == y\n",
    "- Not equal\tx != y\n",
    "- Greater than\tx > y\n",
    "- Less than\tx < y\n",
    "- Greater than or equal to\tx >= y\n",
    "- Less than or equal to\tx <= y\n"
   ]
  },
  {
   "cell_type": "markdown",
   "metadata": {
    "id": "vwJPZrbJmRzj"
   },
   "source": [
    "\n",
    "## Logical Operators\n",
    "\n",
    "- \"and\" Returns True if both statements are true\tx < 5 and  x < 10\n",
    "- \"or\"\tReturns True if one of the statements is true\tx < 5 or x < 4\n",
    "- \"not\"\tReverse the result, returns False if the result is true\tnot(x < 5 and x < 10)"
   ]
  },
  {
   "cell_type": "markdown",
   "metadata": {
    "id": "t7wfHZ3smc4i"
   },
   "source": [
    "\n",
    "## Python Identity Operators\n",
    "\n",
    "Identity operators are used to compare the objects, not if they are equal, but if they are actually the same object, with the same memory location:\n",
    "\n",
    "- \"is\" - Returns True if both variables are the same object ( x is y )\n",
    "- \"is not\" - Returns True if both variables are not the same object ( x is not y )\n"
   ]
  },
  {
   "cell_type": "markdown",
   "metadata": {
    "id": "xz8se8Hcmi7-"
   },
   "source": [
    "## Bitwise Operators\n",
    "\n",
    "- & -> AND\n",
    "- | -> OR\n",
    "- ^ -> XOR\n",
    "- ~ -> NOT\n",
    "- << -> Zero fill left shift\n",
    "- >> -> Signed right shift\n"
   ]
  },
  {
   "cell_type": "markdown",
   "metadata": {
    "id": "RYM0Oym7mo-t"
   },
   "source": [
    "\n",
    "## Operator Precedence\n",
    "\n",
    "- () -> Parentheses\n",
    "- ** -> Exponent\n",
    "- +x  -x  ~x -> Unary plus, unary minus, and bitwise NOT\n",
    "- *  /  //  %\n",
    "- +  -\n",
    "- <<  >>\n",
    "- &\n",
    "- ^\n",
    "- |\n",
    "- ==  !=  >  >=  <  <=  is  is not  in  not in\n",
    "- not\n",
    "- and\n",
    "- or\n"
   ]
  },
  {
   "cell_type": "markdown",
   "metadata": {
    "id": "DiiDAKPBMb18"
   },
   "source": [
    "# Conditional Statements\n",
    "\n"
   ]
  },
  {
   "cell_type": "markdown",
   "metadata": {
    "id": "whr60lphi2k2"
   },
   "source": [
    "```\n",
    "Equals: a == b\n",
    "Not Equals: a != b\n",
    "Less than: a < b\n",
    "Less than or equal to: a <= b\n",
    "Greater than: a > b\n",
    "Greater than or equal to: a >= b\n",
    "```\n",
    "\n",
    "- An \"if statement\" is written by using the **if** keyword.\n",
    "- The **elif** keyword is Python's way of saying \"if the previous conditions were not true, then try this condition\".\n",
    "- The **else** keyword catches anything which isn't caught by the preceding conditions.\n",
    "\n",
    "## The Pass Statement\n",
    "\n",
    "- if statements cannot be empty, but if you for some reason have an if statement with no content, put in the pass statement to avoid getting an error."
   ]
  },
  {
   "cell_type": "code",
   "execution_count": null,
   "metadata": {
    "id": "lJ1M9rShM04-"
   },
   "outputs": [],
   "source": [
    "a = 200\n",
    "b = 33\n",
    "if b > a:\n",
    "  print(\"b is greater than a\")\n",
    "elif a == b:\n",
    "  print(\"a and b are equal\")\n",
    "else:\n",
    "  print(\"a is greater than b\")\n",
    "\n",
    "# Short hand if\n",
    "if a > b: print(\"a is greater than b\")\n",
    "# Short Hand if else\n",
    "print(\"A\") if a > b else print(\"B\")\n",
    "\n",
    "\n",
    "# Nested If\n",
    "x = 41\n",
    "if x > 10:\n",
    "  print(\"Above ten,\")\n",
    "  if x > 20:\n",
    "    print(\"and also above 20!\")\n",
    "  else:\n",
    "    print(\"but not above 20.\")\n",
    "\n",
    "if b > a:\n",
    "  pass"
   ]
  },
  {
   "cell_type": "markdown",
   "metadata": {
    "id": "gcxLKNU1NqzN"
   },
   "source": [
    "# Loops\n",
    "\n",
    "Python has two primitive loop commands:\n",
    "- **while** loop\n",
    "- **for** loop\n"
   ]
  },
  {
   "cell_type": "markdown",
   "metadata": {
    "id": "fGKz_jKxm_qr"
   },
   "source": [
    "## The while Loop\n",
    "\n",
    "- With the **while** loop we can execute a set of statements as long as a condition is true.\n",
    "- With the **break** statement we can stop the loop even if the while condition is true:\n",
    "- With the **continue** statement we can stop the current iteration, and continue with the next:\n",
    "- With the **else** statement we can run a block of code once when the condition no longer is true:"
   ]
  },
  {
   "cell_type": "code",
   "execution_count": null,
   "metadata": {
    "id": "rhABE4I7nCB-"
   },
   "outputs": [],
   "source": [
    "\n",
    "# While Loop\n",
    "\n",
    "##  Break\n",
    "i = 1\n",
    "while i < 6:\n",
    "  print(i)\n",
    "  if i == 3:\n",
    "    break\n",
    "  i += 1\n",
    "\n",
    "## Continue\n",
    "i = 0\n",
    "while i < 6:\n",
    "  i += 1\n",
    "  if i == 3:\n",
    "    continue\n",
    "  print(i)\n",
    "\n",
    "## Else\n",
    "\n",
    "i = 1\n",
    "while i < 6:\n",
    "  print(i)\n",
    "  i += 1\n",
    "else:\n",
    "  print(\"i is no longer less than 6\")\n"
   ]
  },
  {
   "cell_type": "markdown",
   "metadata": {
    "id": "W3mgtRuxnF0O"
   },
   "source": [
    "\n",
    "\n",
    "## The For Loop\n",
    "\n",
    "- Same as while loop\n",
    "- loop through any iterable\n",
    "- Syntax ```for x in itemslist ```\n",
    "- For loop also has break, continue, else, pass statements\n",
    "- We can have nested loops as well"
   ]
  },
  {
   "cell_type": "code",
   "execution_count": null,
   "metadata": {
    "colab": {
     "base_uri": "https://localhost:8080/"
    },
    "id": "XDTY0BYAOLF-",
    "outputId": "76a17ecf-6406-4497-9c10-0066970bf7f4"
   },
   "outputs": [
    {
     "name": "stdout",
     "output_type": "stream",
     "text": [
      "1\n",
      "2\n",
      "3\n",
      "1\n",
      "2\n",
      "4\n",
      "5\n",
      "6\n",
      "1\n",
      "2\n",
      "3\n",
      "4\n",
      "5\n",
      "i is no longer less than 6\n",
      "apple\n",
      "banana\n",
      "apple\n",
      "cherry\n",
      "2\n",
      "5\n",
      "8\n",
      "11\n",
      "14\n",
      "0\n",
      "1\n",
      "2\n",
      "3\n",
      "4\n",
      "5\n",
      "Finally finished!\n",
      "red apple\n",
      "red banana\n",
      "red cherry\n",
      "big apple\n",
      "big banana\n",
      "big cherry\n",
      "tasty apple\n",
      "tasty banana\n",
      "tasty cherry\n"
     ]
    }
   ],
   "source": [
    "\n",
    "# For Loop\n",
    "\n",
    "# Break statement\n",
    "\n",
    "fruits = [\"apple\", \"banana\", \"cherry\"]\n",
    "for x in fruits:\n",
    "  print(x)\n",
    "  if x == \"banana\":\n",
    "    break\n",
    "\n",
    "# Continue Statement\n",
    "\n",
    "fruits = [\"apple\", \"banana\", \"cherry\"]\n",
    "for x in fruits:\n",
    "  if x == \"banana\":\n",
    "    continue\n",
    "  print(x)\n",
    "\n",
    "# Looping the range\n",
    "for x in range(2, 15, 3):\n",
    "  print(x)\n",
    "\n",
    "# Else statement\n",
    "\n",
    "for x in range(6):\n",
    "  print(x)\n",
    "else:\n",
    "  print(\"Finally finished!\")\n",
    "\n",
    "# Nested loops\n",
    "adj = [\"red\", \"big\", \"tasty\"]\n",
    "fruits = [\"apple\", \"banana\", \"cherry\"]\n",
    "\n",
    "for x in adj:\n",
    "  for y in fruits:\n",
    "    print(x, y)\n",
    "\n",
    "# Pass statement\n",
    "for x in [0, 1, 2]:\n",
    "  pass"
   ]
  },
  {
   "cell_type": "markdown",
   "metadata": {
    "id": "v0co5trOnQwN"
   },
   "source": [
    "## The range() Function\n",
    "\n",
    "- The **range()** function defaults to 0 as a starting value, however it is possible to specify the starting value by adding a parameter: range(2, 6), which means values from 2 to 6 (but not including 6):\n",
    "- The range() function defaults to increment the sequence by 1, however it is possible to specify the increment value by adding a third parameter: range(2, 30, 3):\n",
    "\n"
   ]
  },
  {
   "cell_type": "markdown",
   "metadata": {
    "id": "txwwfvpi1qTu"
   },
   "source": [
    "\n",
    "# Lists\n"
   ]
  },
  {
   "cell_type": "markdown",
   "metadata": {
    "id": "0jiltC_CjOIr"
   },
   "source": [
    "\n",
    "* Lists are used to store multiple items in a single variable.\n",
    "\n",
    "* Lists are one of 4 built-in data types in Python used to store collections of data, the other 3 are Tuple, Set, and Dictionary, all with different qualities and usage.\n",
    "\n",
    "* Lists are created using square brackets:\n",
    "* List items are ordered, changeable, and allow duplicate values.\n",
    "\n",
    "* List items can be of any data type:\n",
    "\n",
    "* A list can contain different data types:\n",
    "\n",
    "* It is also possible to use the list() constructor when creating a new list.\n",
    "\n",
    "*There are four collection data types in the Python programming language:*\n",
    "\n",
    "- **List** is a collection which is ordered and changeable. Allows duplicate members.\n",
    "- **Tuple** is a collection which is ordered and unchangeable. Allows duplicate members.\n",
    "- **Set** is a collection which is unordered, unchangeable*, and unindexed. No duplicate members.\n",
    "- **Dictionary** is a collection which is ordered** and changeable. No duplicate members.\n",
    "\n",
    "## Accessing Items\n",
    "\n",
    "- List items are indexed and you can access them by referring to the index number:\n",
    "- Index start from 0\n",
    "- Negative indexing means start from the end\n",
    "- -1 refers to the last item, -2 refers to the second last item etc.\n",
    "- You can specify a range of indexes by specifying where to start and where to end the range.\n",
    "- By leaving out the start value, the range will start at the first item:\n",
    "- By leaving out the end value, the range will go on to the end of the list:\n",
    "- Specify negative indexes if you want to start the search from the end of the list:\n",
    "\n",
    "## Change List Items\n",
    "\n",
    "- To change the value of a specific item, refer to the index number:\n",
    "\n",
    "- To change the value of items within a specific range, define a list with the new values, and refer to the range of index numbers where you want to insert the new values:\n",
    "\n",
    "- If you insert more items than you replace, the new items will be inserted where you specified, and the remaining items will move accordingly:\n",
    "\n",
    "- If you insert less items than you replace, the new items will be inserted where you specified, and the remaining items will move accordingly: ( i.e some deletion of items happens )\n",
    "\n",
    "## Add List Items\n",
    "\n",
    "- To add an item to the end of the list, use the **append()** method:\n",
    "- To insert a list item at a specified index, use the **insert()** method.\n",
    "- To append elements from another list to the current list, use the **extend()** method.\n",
    "- The extend() method does not have to append lists, you can add any iterable object (tuples, sets, dictionaries etc.).\n",
    "\n",
    "## Remove List Items\n",
    "- The **remove()** method removes the specified item.\n",
    "- If there are more than one item with the specified value, the remove() method removes the first occurrence:\n",
    "- The **pop()** method removes the specified index.\n",
    "- If you do not specify the index, the pop() method removes the last item.\n",
    "- The **del** keyword also removes the specified index:\n",
    "- The del keyword can also delete the list completely.\n",
    "- The clear() method empties the list. The list still remains, but it has no content\n",
    "\n",
    "\n",
    "## List Comparision\n",
    "\n",
    "- List comprehension offers a shorter syntax when you want to create a new list based on the values of an existing list.\n",
    "- Syntax ```newlist = [expression for item in iterable if condition == True]```\n",
    "- The **iterable** can be any iterable object, like a list, tuple, set etc.\n",
    "\n",
    "- Ex: ``` newlist = [x for x in range(10) if x < 5] ```\n",
    "\n",
    "- The **expression** is the current item in the iteration, but it is also the outcome, which you can manipulate before it ends up like a list item in the new list:\n",
    "\n",
    "- Ex: ```newlist = [x.upper() for x in fruits]```\n",
    "\n",
    "- The expression can also contain conditions, not like a filter, but as a way to manipulate the outcome:\n",
    "\n",
    "- Ex: ``` newlist = [x if x != \"banana\" else \"orange\" for x in fruits] ```\n",
    "\n",
    "\n",
    "## List Sorting\n",
    "\n",
    "- List objects have a **sort()** method that will sort the list alphanumerically, ascending, by default:\n",
    "- To sort descending, use the keyword argument **reverse = True**\n",
    "- You can also customize your own function by using the keyword argument **key = function**.\n",
    "- By default the sort() method is **case sensitive**, resulting in all capital letters being sorted before lower case letters:\n",
    "- So if you want a case-insensitive sort function, use** str.lower** as a key function:\n",
    "- The **reverse()** method reverses the current sorting order of the elements.\n",
    "\n",
    "\n",
    "## Copy List\n",
    "\n",
    "- You cannot copy a list simply by typing list2 = list1, because: list2 will only be a reference to list1, and changes made in list1 will automatically also be made in list2.\n",
    "\n",
    "- You can use the built-in List method **copy()** to copy a list\n",
    "- Another way to make a copy is to use the built-in method **list()**.\n",
    "- You can also make a copy of a list by using the **:** (slice) operator.\n",
    "\n",
    "# Join Two Lists\n",
    "- One of the easiest ways are by using the **+** operator.\n",
    "- Another way to join two lists is by appending all the items from list2 into list1, one by one:\n",
    "- Or you can use the extend() method, where the purpose is to add elements from one list to another list:\n",
    "\n",
    "## List Builtin Function\n",
    "\n",
    "| Method | Description   |\n",
    "| :---:   | :---: |\n",
    "| append() | Adds an element at the end of the list   |\n",
    "| clear() | Removes all the elements from the list |\n",
    "| copy() | Returns a copy of the list |\n",
    "| count() | Returns the number of elements with the specified value |\n",
    "| extend() | Add the elements of a list (or any iterable), to the end of the current list |\n",
    "| index() | Returns the index of the first element with the specified value |\n",
    "| insert() | Adds an element at the specified position |\n",
    "| pop() | Removes the element at the specified position |\n",
    "| remove() | Removes the item with the specified value |\n",
    "| reverse() | Reverses the order of the list |\n",
    "| sort() | Sorts the list |\n",
    "\n"
   ]
  },
  {
   "cell_type": "code",
   "execution_count": null,
   "metadata": {
    "colab": {
     "base_uri": "https://localhost:8080/"
    },
    "collapsed": true,
    "id": "V7NLF-ai3ULO",
    "jupyter": {
     "outputs_hidden": true
    },
    "outputId": "26b9601c-804f-423f-9c68-434f0361388c"
   },
   "outputs": [
    {
     "name": "stdout",
     "output_type": "stream",
     "text": [
      "5\n",
      "banana\n",
      "True\n",
      "['cherry', 4, True]\n",
      "['apple', 'banana', 'cherry', 4]\n",
      "['cherry', 4, True]\n",
      "['banana', 'cherry', 4]\n",
      "['apple', 'blackcurrant', 'watermelon', 4, True]\n",
      "['apple', 'pineapple', 'watermelon', 'orange', 'watermelon', 4, True]\n",
      "['apple', 'mango', 'orange', 'watermelon', 4, True]\n",
      "['apple', 'watermelon']\n",
      "['apple', 'watermelon', 'pineapple']\n",
      "['apple', 'grapes', 'watermelon', 'pineapple']\n",
      "['apple', 'banana', 'cherry', 'mango', 'pineapple', 'papaya']\n",
      "['apple', 'banana', 'cherry', 'mango', 'pineapple', 'papaya', 'kiwi', 'orange']\n",
      "['apple', 'banana', 'cherry', 'mango', 'pineapple', 'papaya', 'kiwi', 'orange', 'H', 'e', 'l', 'l', 'o']\n",
      "['mango', 'pineapple', 'papaya', 'kiwi', 'orange', 'H', 'e', 'l', 'l']\n",
      "[]\n",
      "apple\n",
      "banana\n",
      "cherry\n",
      "apple\n",
      "banana\n",
      "cherry\n",
      "apple\n",
      "banana\n",
      "cherry\n",
      "['apple', 'banana', 'mango']\n",
      "['apple', 'banana', 'mango']\n",
      "['APPLE', 'BANANA', 'CHERRY', 'KIWI', 'MANGO']\n",
      "['hello', 'hello', 'hello', 'hello', 'hello']\n",
      "['apple', 'orange', 'cherry', 'kiwi', 'mango']\n",
      "['banana', 'kiwi', 'mango', 'orange', 'pineapple']\n",
      "['pineapple', 'orange', 'mango', 'kiwi', 'banana']\n",
      "[50, 65, 23, 82, 100]\n",
      "['banana', 'cherry', 'Kiwi', 'Orange']\n",
      "['cherry', 'Kiwi', 'Orange', 'banana']\n",
      "['apple', 'banana', 'cherry']\n",
      "['apple', 'banana', 'cherry']\n",
      "['apple', 'banana', 'cherry']\n",
      "['a', 'b', 'c', 1, 2, 3]\n",
      "['a', 'b', 'c', 1, 2, 3]\n",
      "['a', 'b', 'c', 1, 2, 3, 4]\n"
     ]
    }
   ],
   "source": [
    "# Creating the Lists\n",
    "\n",
    "thislist = [\"apple\", \"banana\", \"cherry\", 4, True]\n",
    "print(len(thislist))\n",
    "\n",
    "# Accessing list items\n",
    "print(thislist[1])\n",
    "print(thislist[-1]) # Negative indexing means start from the end\n",
    "print(thislist[2:5])\n",
    "print(thislist[:4])\n",
    "print(thislist[2:])\n",
    "print(thislist[-4:-1])\n",
    "\n",
    "# Change List of elements\n",
    "thislist[1] = \"blackcurrant\"\n",
    "thislist[1:3] = [\"blackcurrant\", \"watermelon\"]\n",
    "print(thislist) # ['apple', 'blackcurrant', 'watermelon', 4, True]\n",
    "\n",
    "# If you insert more items than you replace, the new items will be inserted where you specified, and the remaining items will move accordingly:\n",
    "thislist[1:2] = [\"pineapple\", \"watermelon\", \"orange\"]\n",
    "print(thislist) # ['apple', 'pineapple', 'watermelon', 'orange', 'watermelon', 4, True]\n",
    "\n",
    "# If you insert less items than you replace, the new items will be inserted where you specified, and the remaining items will move accordingly:\n",
    "thislist[1:3] = [\"mango\"]\n",
    "print(thislist) # ['apple', 'mango', 'orange', 'watermelon', 4, True]\n",
    "thislist = [\"apple\", \"banana\", \"cherry\"]\n",
    "thislist[1:3] = [\"watermelon\"]\n",
    "print(thislist) # ['apple', 'watermelon']\n",
    "\n",
    "\n",
    "# Insert/Add new items\n",
    "\n",
    "# Append\n",
    "thislist.append(\"pineapple\");\n",
    "print(thislist) # ['apple', 'watermelon', 'pineapple']\n",
    "\n",
    "# Insert at specific index\n",
    "thislist.insert(1, \"grapes\")\n",
    "print(thislist) # ['apple', 'grapes', 'watermelon', 'pineapple']\n",
    "\n",
    "# Extend from other list\n",
    "thislist = [\"apple\", \"banana\", \"cherry\"]\n",
    "tropical = [\"mango\", \"pineapple\", \"papaya\"]\n",
    "thislist.extend(tropical)\n",
    "print(thislist) # ['apple', 'banana', 'cherry', 'mango', 'pineapple', 'papaya']\n",
    "thistuple = (\"kiwi\", \"orange\")\n",
    "thislist.extend(thistuple) # We can extend any iterable objects ( typle, set, dictionaries etc)\n",
    "print(thislist) # ['apple', 'banana', 'cherry', 'mango', 'pineapple', 'papaya', 'kiwi', 'orange']\n",
    "thislist.extend(\"Hello\")\n",
    "print(thislist) # ['apple', 'banana', 'cherry', 'mango', 'pineapple', 'papaya', 'kiwi', 'orange', 'H', 'e', 'l', 'l', 'o']\n",
    "\n",
    "\n",
    "# Remove Elements\n",
    "thislist.remove(\"banana\") # if there are multiple values then it removes the first occurance\n",
    "thislist.pop(1) # removes the specified index\n",
    "thislist.pop() # removes the last element\n",
    "del thislist[0] # removes the specified index\n",
    "print(thislist) # ['mango', 'pineapple', 'papaya', 'kiwi', 'orange', 'H', 'e', 'l', 'l']\n",
    "del thislist # deletes the complete list\n",
    "# print(thislist) # error\n",
    "\n",
    "thislist = [\"apple\", \"banana\", \"cherry\"]\n",
    "thislist.clear() # clears the list. but list still remains with no content\n",
    "print(thislist) # []\n",
    "\n",
    "# Looping the list\n",
    "\n",
    "thislist = [\"apple\", \"banana\", \"cherry\"]\n",
    "for x in thislist:\n",
    "  print(x)\n",
    "\n",
    "# Loop Through the Index Numbers\n",
    "thislist = [\"apple\", \"banana\", \"cherry\"]\n",
    "for i in range(len(thislist)):\n",
    "  print(thislist[i])\n",
    "\n",
    "# Using While loop\n",
    "thislist = [\"apple\", \"banana\", \"cherry\"]\n",
    "i = 0\n",
    "while i < len(thislist):\n",
    "  print(thislist[i])\n",
    "  i = i + 1\n",
    "\n",
    "\n",
    "# List Comparision\n",
    "\n",
    "# Without List Comparision\n",
    "fruits = [\"apple\", \"banana\", \"cherry\", \"kiwi\", \"mango\"]\n",
    "newlist = []\n",
    "\n",
    "for x in fruits:\n",
    "  if \"a\" in x:\n",
    "    newlist.append(x)\n",
    "\n",
    "print(newlist)\n",
    "\n",
    "# With List Comparision\n",
    "fruits = [\"apple\", \"banana\", \"cherry\", \"kiwi\", \"mango\"]\n",
    "newlist = [x for x in fruits if \"a\" in x]\n",
    "print(newlist)\n",
    "\n",
    "# List Comparision: Iterable can be any iterable object\n",
    "newlist = [x for x in range(10) if x < 5]\n",
    "\n",
    "# List Comparision: Expression\n",
    "newlist = [x.upper() for x in fruits]\n",
    "print(newlist) # ['APPLE', 'BANANA', 'CHERRY', 'KIWI', 'MANGO']\n",
    "newlist = ['hello' for x in fruits]\n",
    "print(newlist) # ['hello', 'hello', 'hello', 'hello', 'hello']\n",
    "newlist = [x if x != \"banana\" else \"orange\" for x in fruits]\n",
    "print(newlist) # ['apple', 'orange', 'cherry', 'kiwi', 'mango']\n",
    "\n",
    "\n",
    "# List Sorting\n",
    "thislist = [\"orange\", \"mango\", \"kiwi\", \"pineapple\", \"banana\"]\n",
    "thislist.sort()\n",
    "print(thislist)\n",
    "\n",
    "# Sort Descending\n",
    "thislist.sort(reverse = True)\n",
    "print(thislist)\n",
    "\n",
    "# Passing Custom Function\n",
    "def myfunc(n):\n",
    "  return abs(n - 50)\n",
    "\n",
    "thislist = [100, 50, 65, 82, 23]\n",
    "thislist.sort(key = myfunc)\n",
    "print(thislist)\n",
    "\n",
    "# Case Insensitive Sort\n",
    "thislist = [\"banana\", \"Orange\", \"Kiwi\", \"cherry\"]\n",
    "thislist.sort(key = str.lower)\n",
    "print(thislist)\n",
    "\n",
    "# Reverse Order\n",
    "thislist = [\"banana\", \"Orange\", \"Kiwi\", \"cherry\"]\n",
    "thislist.reverse()\n",
    "print(thislist) # ['cherry', 'Kiwi', 'Orange', 'banana']\n",
    "\n",
    "\n",
    "# Copy the list\n",
    "thislist = [\"apple\", \"banana\", \"cherry\"]\n",
    "mylist = thislist.copy()\n",
    "print(mylist)\n",
    "\n",
    "# Another way to copy\n",
    "thislist = [\"apple\", \"banana\", \"cherry\"]\n",
    "mylist = list(thislist)\n",
    "print(mylist)\n",
    "\n",
    "# We can also use slice operator\n",
    "thislist = [\"apple\", \"banana\", \"cherry\"]\n",
    "mylist = thislist[:]\n",
    "print(mylist)\n",
    "\n",
    "# Join List using + operator\n",
    "list1 = [\"a\", \"b\", \"c\"]\n",
    "list2 = [1, 2, 3]\n",
    "list3 = list1 + list2\n",
    "print(list3)\n",
    "\n",
    "# Join one by one using append function\n",
    "list1 = [\"a\", \"b\", \"c\"]\n",
    "list2 = [1, 2, 3]\n",
    "for x in list2:\n",
    "  list1.append(x)\n",
    "\n",
    "print(list1)\n",
    "\n",
    "# using extend\n",
    "list1 = [\"a\", \"b\", \"c\"]\n",
    "list2 = [1, 2, 3, 4]\n",
    "list1.extend(list2)\n",
    "print(list1)\n",
    "\n",
    "\n"
   ]
  },
  {
   "cell_type": "markdown",
   "metadata": {
    "id": "8_33jFGJdqAw"
   },
   "source": [
    "# Tuples\n",
    "\n",
    "Tuples are used to store multiple items in a single variable.\n"
   ]
  },
  {
   "cell_type": "markdown",
   "metadata": {
    "id": "akg9ukMHlTZK"
   },
   "source": [
    "## Intro to Tuples\n",
    "\n",
    "\n",
    "\n",
    "Tuple is one of 4 built-in data types in Python used to store collections of data, the other 3 are List, Set, and Dictionary, all with different qualities and usage.\n",
    "\n",
    "Tuple items are ordered, **unchangeable**, and allow duplicate values.\n",
    "\n",
    "Tuples are written with round brackets.\n",
    "\n",
    "Tuple items can be of any data type:\n",
    "\n",
    "\n",
    "\n",
    "```python\n",
    "thistuple = (\"apple\", \"banana\", \"cherry\")\n",
    "print(thistuple)\n",
    "```\n",
    "\n",
    "To create a tuple with only one item, you have to add a comma after the item, otherwise Python will not recognize it as a tuple.\n",
    "\n",
    "```python\n",
    "thistuple = (\"apple\",)\n",
    "print(type(thistuple))\n",
    "\n",
    "#NOT a tuple\n",
    "thistuple = (\"apple\")\n",
    "print(type(thistuple))\n",
    "```\n",
    "\n",
    "- Accessing of tuple items is same as list\n",
    "\n"
   ]
  },
  {
   "cell_type": "markdown",
   "metadata": {
    "id": "0bjxNnoklaLi"
   },
   "source": [
    "## Update Values\n",
    "\n",
    "### Change Items\n",
    "Once a tuple is created, you cannot change its values. Tuples are unchangeable, or immutable as it also is called.\n",
    "\n",
    "But there is a workaround. You can convert the tuple into a list, change the list, and convert the list back into a tuple.\n",
    "\n",
    "```python\n",
    "x = (\"apple\", \"banana\", \"cherry\")\n",
    "y = list(x)\n",
    "y[1] = \"kiwi\"\n",
    "x = tuple(y)\n",
    "\n",
    "print(x)\n",
    "```\n",
    "### Add Items\n",
    "\n",
    "1. Append New item - Do same as change\n",
    "2. Add tuple to a tuple. You are allowed to add tuples to tuples, so if you want to add one item, (or many), create a new tuple with the item(s), and add it to the existing tuple\n",
    "\n",
    "```python\n",
    "thistuple = (\"apple\", \"banana\", \"cherry\")\n",
    "y = (\"orange\",)\n",
    "thistuple += y\n",
    "\n",
    "print(thistuple)\n",
    "```\n",
    "\n",
    "### Remove Items\n",
    "\n",
    "Tuples are unchangeable, so you cannot remove items from it, but you can use the same workaround as we used for changing and adding tuple items:\n",
    "\n",
    "### Delete tuple completely\n",
    "\n",
    "The del keyword can delete the tuple completely:\n",
    "\n",
    "```python\n",
    "thistuple = (\"apple\", \"banana\", \"cherry\")\n",
    "del thistuple\n",
    "print(thistuple) #this will raise an error because the tuple no longer exists\n",
    "```\n"
   ]
  },
  {
   "cell_type": "markdown",
   "metadata": {
    "id": "dikvKcXzljus"
   },
   "source": [
    "\n",
    "## Unpacking a Tuple\n",
    "\n",
    "```python\n",
    "# This is packing a tuple\n",
    "fruits = (\"apple\", \"banana\", \"cherry\")\n",
    "\n",
    "# Unpacking a tuple\n",
    "(green, yellow, red) = fruits\n",
    "print(green)\n",
    "print(yellow)\n",
    "print(red)\n",
    "```\n",
    "\n",
    "If the number of variables is less than the number of values, you can add an * to the variable name and the values will be assigned to the variable as a list:\n",
    "\n",
    "```python\n",
    "fruits = (\"apple\", \"banana\", \"cherry\", \"strawberry\", \"raspberry\")\n",
    "\n",
    "(green, yellow, *red) = fruits\n",
    "```\n",
    "\n",
    "\n",
    "## Loop the tuples\n",
    "\n",
    "Same as Lists in python\n",
    "\n",
    "## Join Tuples\n",
    "\n",
    "To join two or more tuples you can use the **+** operator:\n",
    "\n",
    "## Multiply tuples\n",
    "\n",
    "If you want to multiply the content of a tuple a given number of times, you can use the * **bold text** operator:\n",
    "\n",
    "\n",
    "## index() function\n",
    "\n",
    "The index() method finds the first occurrence of the specified value.\n",
    "\n",
    "```python\n",
    "thistuple = (1, 3, 7, 8, 7, 5, 4, 6, 8, 5)\n",
    "\n",
    "x = thistuple.index(8)\n",
    "\n",
    "print(x) #3\n",
    "```\n",
    "\n"
   ]
  },
  {
   "cell_type": "code",
   "execution_count": null,
   "metadata": {
    "colab": {
     "base_uri": "https://localhost:8080/"
    },
    "collapsed": true,
    "id": "X79MTsCbfsU8",
    "jupyter": {
     "outputs_hidden": true
    },
    "outputId": "47851810-c83c-480e-99c7-f97f158a532e"
   },
   "outputs": [
    {
     "name": "stdout",
     "output_type": "stream",
     "text": [
      "apple\n",
      "banana\n",
      "cherry\n",
      "apple\n",
      "banana\n",
      "['cherry', 'strawberry', 'raspberry']\n",
      "apple\n",
      "['mango', 'papaya', 'pineapple']\n",
      "cherry\n",
      "('a', 'b', 'c', 1, 2, 3)\n",
      "('apple', 'banana', 'cherry', 'apple', 'banana', 'cherry')\n",
      "3\n"
     ]
    }
   ],
   "source": [
    "# Unpacking a tuple\n",
    "\n",
    "# This is packing a tuple\n",
    "fruits = (\"apple\", \"banana\", \"cherry\")\n",
    "\n",
    "# Unpacking a tuple\n",
    "(green, yellow, red) = fruits\n",
    "print(green) # apple\n",
    "print(yellow) # banana\n",
    "print(red) # cherry\n",
    "\n",
    "fruits = (\"apple\", \"banana\", \"cherry\", \"strawberry\", \"raspberry\")\n",
    "\n",
    "(green, yellow, *red) = fruits\n",
    "print(green)\n",
    "print(yellow)\n",
    "print(red) # ['cherry', 'strawberry', 'raspberry']\n",
    "\n",
    "fruits = (\"apple\", \"mango\", \"papaya\", \"pineapple\", \"cherry\")\n",
    "(green, *tropic, red) = fruits\n",
    "print(green) # apple\n",
    "print(tropic) #['mango', 'papaya', 'pineapple']\n",
    "print(red) # cherry\n",
    "\n",
    "\n",
    "# Join Tuple\n",
    "tuple1 = (\"a\", \"b\" , \"c\")\n",
    "tuple2 = (1, 2, 3)\n",
    "\n",
    "tuple3 = tuple1 + tuple2\n",
    "print(tuple3) # ('a', 'b', 'c', 1, 2, 3)\n",
    "\n",
    "# Multiply Tuple\n",
    "fruits = (\"apple\", \"banana\", \"cherry\")\n",
    "mytuple = fruits * 2\n",
    "\n",
    "print(mytuple) # ('apple', 'banana', 'cherry', 'apple', 'banana', 'cherry')\n",
    "\n",
    "#index function\n",
    "thistuple = (1, 3, 7, 8, 7, 5, 4, 6, 8, 5)\n",
    "x = thistuple.index(8)\n",
    "print(x) #3"
   ]
  },
  {
   "cell_type": "markdown",
   "metadata": {
    "id": "EvkztLu_nouM"
   },
   "source": [
    "# Sets\n",
    "\n",
    "A set is a collection which is unordered, unchangeable*, and unindexed.\n",
    "\n",
    "[Reference](https://www.w3schools.com/python/python_sets.asp)"
   ]
  },
  {
   "cell_type": "markdown",
   "metadata": {
    "id": "Z4cN5ifmn4gk"
   },
   "source": [
    "## Intro to Sets\n",
    "\n",
    "* Note: Set items are unchangeable, but you can remove items and add new items.\n",
    "\n",
    "* Sets are written with curly brackets.\n",
    "\n",
    "* Set items are unordered, unchangeable, and do not allow duplicate values.\n",
    "\n",
    "### Unordered\n",
    "\n",
    "Unordered means that the items in a set do not have a defined order.\n",
    "\n",
    "Set items can appear in a different order every time you use them, and cannot be referred to by index or key.\n",
    "\n",
    "### Unchangeable\n",
    "Set items are unchangeable, meaning that we cannot change the items after the set has been created.\n",
    "\n",
    "Once a set is created, you cannot change its items, but you can remove items and add new items.\n",
    "\n",
    "### Duplicates Not Allowed\n",
    "Sets cannot have two items with the same value.\n",
    "\n",
    "**Note:** The values True and 1 are considered the same value in sets, and are treated as duplicates:\n",
    "\n",
    "\n",
    "### Get the Length of a Set\n",
    "To determine how many items a set has, use the len() function.\n",
    "\n",
    "\n",
    "### Set Items - Data Types\n",
    "Set items can be of any data type:\n",
    "\n",
    "A set can contain different data types:\n",
    "\n",
    "### The set() Constructor\n",
    "It is also possible to use the set() constructor to make a set.\n",
    "\n",
    "\n",
    "\n",
    "\n"
   ]
  },
  {
   "cell_type": "code",
   "execution_count": null,
   "metadata": {
    "colab": {
     "base_uri": "https://localhost:8080/"
    },
    "id": "daKeWORkoRnY",
    "outputId": "b9d06089-0376-4232-eb48-3af32a4ad720"
   },
   "outputs": [
    {
     "name": "stdout",
     "output_type": "stream",
     "text": [
      "{'banana', 'cherry', 'apple'}\n",
      "{'banana', 'cherry', 'apple'}\n",
      "{True, 2, 'cherry', 'banana', 'apple'}\n",
      "{False, True, 'cherry', 'banana', 'apple'}\n",
      "<class 'set'>\n",
      "{'banana', 'cherry', 'apple'}\n"
     ]
    }
   ],
   "source": [
    "myset = {\"apple\", \"banana\", \"cherry\"}\n",
    "print(myset)\n",
    "\n",
    "thisset = {\"apple\", \"banana\", \"cherry\", \"apple\"}\n",
    "print(thisset)\n",
    "\n",
    "thisset = {\"apple\", \"banana\", \"cherry\", True, 1, 2}\n",
    "print(thisset) # {True, 2, 'cherry', 'banana', 'apple'}\n",
    "\n",
    "thisset = {\"apple\", \"banana\", \"cherry\", False, True, 0}\n",
    "print(thisset)\n",
    "\n",
    "set1 = {\"abc\", 34, True, 40, \"male\"}\n",
    "print(type(set1)) # <class 'set'>\n",
    "\n",
    "thisset = set((\"apple\", \"banana\", \"cherry\")) # note the double round-brackets\n",
    "print(thisset)"
   ]
  },
  {
   "cell_type": "markdown",
   "metadata": {
    "id": "UgGi37QapA5Y"
   },
   "source": [
    "## Access Set Items\n",
    "\n",
    "### Access Items\n",
    "You cannot access items in a set by referring to an index or a key.\n",
    "\n",
    "But you can loop through the set items using a for loop, or ask if a specified value is present in a set, by using the in keyword.\n",
    "\n",
    "### Change Items\n",
    "\n",
    "Once a set is created, you cannot change its items, but you can add new items.\n",
    "\n"
   ]
  },
  {
   "cell_type": "code",
   "execution_count": null,
   "metadata": {
    "colab": {
     "base_uri": "https://localhost:8080/"
    },
    "id": "4hsko9UjpL6F",
    "outputId": "8dc95b0d-f38d-4f3b-c314-6d8e675676ae"
   },
   "outputs": [
    {
     "name": "stdout",
     "output_type": "stream",
     "text": [
      "banana\n",
      "cherry\n",
      "apple\n",
      "True\n",
      "False\n"
     ]
    }
   ],
   "source": [
    "thisset = {\"apple\", \"banana\", \"cherry\"}\n",
    "\n",
    "for x in thisset:\n",
    "  print(x)\n",
    "\n",
    "print(\"banana\" in thisset) #True\n",
    "\n",
    "print(\"banana\" not in thisset) #False"
   ]
  },
  {
   "cell_type": "markdown",
   "metadata": {
    "id": "0gH2I_-Kpifj"
   },
   "source": [
    "## Add Set Items\n",
    "\n",
    "To add one item to a set use the **add()** method.\n",
    "\n",
    "To add items from another set into the current set, use the **update()** method.\n",
    "\n",
    "### Add Any Iterable\n",
    "The object in the update() method does not have to be a set, it can be any iterable object (tuples, lists, dictionaries etc.).\n",
    "\n",
    "\n",
    "\n"
   ]
  },
  {
   "cell_type": "code",
   "execution_count": null,
   "metadata": {
    "colab": {
     "base_uri": "https://localhost:8080/"
    },
    "id": "15Yh4kmdppVS",
    "outputId": "69c986ea-ed29-451a-e1c3-f78a0ce1ce1b"
   },
   "outputs": [
    {
     "name": "stdout",
     "output_type": "stream",
     "text": [
      "{'banana', 'orange', 'cherry', 'apple'}\n",
      "{'pineapple', 'papaya', 'cherry', 'mango', 'banana', 'apple'}\n"
     ]
    }
   ],
   "source": [
    "# Add item\n",
    "thisset = {\"apple\", \"banana\", \"cherry\"}\n",
    "thisset.add(\"orange\")\n",
    "print(thisset)\n",
    "\n",
    "\n",
    "# Update Items\n",
    "thisset = {\"apple\", \"banana\", \"cherry\"}\n",
    "tropical = {\"pineapple\", \"mango\", \"papaya\"}\n",
    "thisset.update(tropical)\n",
    "print(thisset)\n",
    "\n",
    "# Add any iterable\n",
    "thisset = {\"apple\", \"banana\", \"cherry\"}\n",
    "mylist = [\"kiwi\", \"orange\"]\n",
    "thisset.update(mylist)\n",
    "print(thisset)"
   ]
  },
  {
   "cell_type": "markdown",
   "metadata": {
    "id": "NwZZDuzbqoE6"
   },
   "source": [
    "## Remove Set Items\n",
    "\n",
    "### Remove Item\n",
    "\n",
    "To remove an item in a set, use the **remove()**, or the **discard()** method.\n",
    "\n",
    "**Note:** If the item to remove does not exist, remove() will raise an error.\n",
    "\n",
    "**Note:** If the item to remove does not exist, discard() will NOT raise an error.\n",
    "\n",
    "You can also use the **pop()** method to remove an item, but this method will remove a random item, so you cannot be sure what item that gets removed.\n",
    "\n",
    "The return value of the pop() method is the **removed item**.\n",
    "\n",
    "\n",
    "### Clear\n",
    "The **clear()** method empties the set:\n",
    "\n",
    "\n",
    "### Delete\n",
    "\n",
    "The **del** keyword will delete the set completely:\n",
    "\n",
    "\n",
    "\n",
    "\n"
   ]
  },
  {
   "cell_type": "code",
   "execution_count": null,
   "metadata": {
    "colab": {
     "base_uri": "https://localhost:8080/"
    },
    "id": "NaL-m-PEq-5R",
    "outputId": "d0169baa-4ffe-4b27-94d9-25c177f3bfcd"
   },
   "outputs": [
    {
     "name": "stdout",
     "output_type": "stream",
     "text": [
      "{'cherry', 'apple'}\n",
      "{'cherry', 'apple'}\n",
      "banana\n",
      "{'cherry', 'apple'}\n",
      "set()\n"
     ]
    }
   ],
   "source": [
    "# Remove Item\n",
    "thisset = {\"apple\", \"banana\", \"cherry\"}\n",
    "thisset.remove(\"banana\")\n",
    "print(thisset) # {'cherry', 'apple'}\n",
    "\n",
    "# Discard Item\n",
    "thisset = {\"apple\", \"banana\", \"cherry\"}\n",
    "thisset.discard(\"banana\")\n",
    "print(thisset) # {'cherry', 'apple'}\n",
    "\n",
    "# Pop Item\n",
    "thisset = {\"apple\", \"banana\", \"cherry\"}\n",
    "poppedvalue = thisset.pop()\n",
    "print(poppedvalue) #banana\n",
    "print(thisset) #{'cherry', 'apple'}\n",
    "\n",
    "\n",
    "# Clear\n",
    "thisset = {\"apple\", \"banana\", \"cherry\"}\n",
    "thisset.clear()\n",
    "print(thisset) # set()\n",
    "\n",
    "# Del\n",
    "thisset = {\"apple\", \"banana\", \"cherry\"}\n",
    "del thisset\n",
    "print(thisset)\n"
   ]
  },
  {
   "cell_type": "markdown",
   "metadata": {
    "id": "tDWV4sC_svUe"
   },
   "source": [
    "## Join Sets\n",
    "\n",
    "There are several ways to join two or more sets in Python.\n",
    "\n",
    "The **union()** and **update()** methods joins all items from both sets.\n",
    "\n",
    "The **intersection()** method keeps ONLY the duplicates.\n",
    "\n",
    "The **difference()** method keeps the items from the first set that are not in the other set(s).\n",
    "\n",
    "The **symmetric_difference()** method keeps all items EXCEPT the duplicates.\n",
    "\n",
    "### Union\n",
    "\n",
    "- The **union()** method returns a new set with all items from both sets.\n",
    "\n",
    "- You can use the | operator instead of the union() method, and you will get the same result.\n",
    "\n",
    "- All the joining methods and operators can be used to join multiple sets.\n",
    "\n",
    "- When using a method, just add more sets in the parentheses, separated by commas:\n",
    "\n",
    "- The union() method allows you to join a set with other data types, like lists or tuples.\n",
    "\n",
    "- **Note:** The  | operator only allows you to join sets with sets, and not with other data types like you can with the  union() method.\n",
    "\n",
    "\n",
    "### Update\n",
    "\n",
    "- The **update()** method inserts all items from one set into another.\n",
    "\n",
    "- The update() changes the original set, and does not return a new set.\n",
    "\n",
    "- **Note:** Both union() and update() will exclude any duplicate items.\n",
    "\n",
    "### Intersection\n",
    "- Keep ONLY the duplicates\n",
    "\n",
    "- The intersection() method will return a new set, that only contains the items that are present in both sets.\n",
    "\n",
    "- You can use the & operator instead of the intersection() method, and you will get the same result.\n",
    "\n",
    "- **Note:** The & operator only allows you to join sets with sets, and not with other data types like you can with the intersection() method.\n",
    "\n",
    "### Intersection Update\n",
    "- The **intersection_update()** method will also keep ONLY the duplicates, but it will change the original set instead of returning a new set.\n",
    "\n",
    "### Difference\n",
    "\n",
    "- The difference() method will return a new set that will contain only the items from the first set that are not present in the other set.\n",
    "- You can use the - operator instead of the difference() method, and you will get the same result.\n",
    "- **Note:** The - operator only allows you to join sets with sets, and not with other data types like you can with the difference() method.\n",
    "\n",
    "### Difference Update\n",
    "- The **difference_update()** method will also keep the items from the first set that are not in the other set, but it will change the original set instead of returning a new set.\n",
    "\n",
    "\n",
    "### Symmetric Differences\n",
    "- The **symmetric_difference()** method will keep only the elements that are NOT present in both sets.\n",
    "- You can use the ^ operator instead of the symmetric_difference() method, and you will get the same result.\n",
    "- The ^ operator only allows you to join sets with sets, and not with other data types like you can with the symmetric_difference() method.\n",
    "\n",
    "### Symmetric Difference Update\n",
    "\n",
    "- The **symmetric_difference_update()** method will also keep all but the duplicates, but it will change the original set instead of returning a new set.\n",
    "\n"
   ]
  },
  {
   "cell_type": "code",
   "execution_count": null,
   "metadata": {
    "colab": {
     "base_uri": "https://localhost:8080/"
    },
    "id": "-2p6XQSjs76F",
    "outputId": "07e1234b-7d70-4227-bca4-f59ae1ef64eb"
   },
   "outputs": [
    {
     "name": "stdout",
     "output_type": "stream",
     "text": [
      "{1, 2, 3, 'c', 'a', 'b'}\n",
      "{1, 2, 3, 'c', 'a', 'b'}\n",
      "{1, 2, 3, 'c', 'Elena', 'b', 'apple', 'bananas', 'cherry', 'a', 'John'}\n",
      "{1, 2, 3, 'c', 'Elena', 'b', 'apple', 'bananas', 'cherry', 'a', 'John'}\n",
      "{1, 2, 3, 'c', 'b', 'a'}\n",
      "{1, 2, 3, 'c', 'a', 'b'}\n",
      "{'apple'}\n",
      "{'apple'}\n",
      "{'apple'}\n",
      "{'banana', 'cherry'}\n",
      "{'banana', 'cherry'}\n",
      "{'banana', 'cherry'}\n",
      "{'microsoft', 'banana', 'cherry', 'google'}\n",
      "{'microsoft', 'banana', 'cherry', 'google'}\n",
      "{'banana', 'google', 'cherry', 'microsoft'}\n"
     ]
    }
   ],
   "source": [
    "# Union\n",
    "set1 = {\"a\", \"b\", \"c\"}\n",
    "set2 = {1, 2, 3}\n",
    "\n",
    "set3 = set1.union(set2)\n",
    "print(set3) # {1, 2, 3, 'c', 'a', 'b'}\n",
    "\n",
    "\n",
    "# Using | to join sets\n",
    "set1 = {\"a\", \"b\", \"c\"}\n",
    "set2 = {1, 2, 3}\n",
    "set3 = set1 | set2\n",
    "print(set3) # {1, 2, 3, 'c', 'a', 'b'}\n",
    "\n",
    "# Join multiple sets\n",
    "set1 = {\"a\", \"b\", \"c\"}\n",
    "set2 = {1, 2, 3}\n",
    "set3 = {\"John\", \"Elena\"}\n",
    "set4 = {\"apple\", \"bananas\", \"cherry\"}\n",
    "\n",
    "myset = set1.union(set2, set3, set4)\n",
    "print(myset) # {1, 2, 3, 'c', 'Elena', 'b', 'apple', 'bananas', 'cherry', 'a', 'John'}\n",
    "\n",
    "\n",
    "# Union Using |\n",
    "set1 = {\"a\", \"b\", \"c\"}\n",
    "set2 = {1, 2, 3}\n",
    "set3 = {\"John\", \"Elena\"}\n",
    "set4 = {\"apple\", \"bananas\", \"cherry\"}\n",
    "\n",
    "myset = set1 | set2 | set3 |set4\n",
    "print(myset) # {1, 2, 3, 'c', 'Elena', 'b', 'apple', 'bananas', 'cherry', 'a', 'John'}\n",
    "\n",
    "\n",
    "# Join Set and a Tuple\n",
    "x = {\"a\", \"b\", \"c\"}\n",
    "y = (1, 2, 3)\n",
    "\n",
    "z = x.union(y)\n",
    "print(z) # {1, 2, 3, 'c', 'b', 'a'}\n",
    "\n",
    "\n",
    "# Update\n",
    "\n",
    "set1 = {\"a\", \"b\" , \"c\"}\n",
    "set2 = {1, 2, 3}\n",
    "set1.update(set2)\n",
    "print(set1) # {1, 2, 3, 'c', 'b', 'a'}\n",
    "\n",
    "\n",
    "# Intersection\n",
    "set1 = {\"apple\", \"banana\", \"cherry\"}\n",
    "set2 = {\"google\", \"microsoft\", \"apple\"}\n",
    "\n",
    "set3 = set1.intersection(set2)\n",
    "print(set3) # {'apple'}\n",
    "\n",
    "\n",
    "# Intersection using &\n",
    "set1 = {\"apple\", \"banana\", \"cherry\"}\n",
    "set2 = {\"google\", \"microsoft\", \"apple\"}\n",
    "set3 = set1 & set2\n",
    "print(set3) # {'apple'}\n",
    "\n",
    "# Intersection Update - Keep the items that exist in both set1, and set2:\n",
    "\n",
    "set1 = {\"apple\", \"banana\", \"cherry\"}\n",
    "set2 = {\"google\", \"microsoft\", \"apple\"}\n",
    "\n",
    "set1.intersection_update(set2)\n",
    "print(set1) # {'apple'}\n",
    "\n",
    "\n",
    "# Difference - Keep all items from set1 that are not in set2:\n",
    "\n",
    "set1 = {\"apple\", \"banana\", \"cherry\"}\n",
    "set2 = {\"google\", \"microsoft\", \"apple\"}\n",
    "set3 = set1.difference(set2)\n",
    "print(set3) # {'banana', 'cherry'}\n",
    "\n",
    "# Difference Using - operator\n",
    "set1 = {\"apple\", \"banana\", \"cherry\"}\n",
    "set2 = {\"google\", \"microsoft\", \"apple\"}\n",
    "\n",
    "set3 = set1 - set2\n",
    "print(set3) # {'banana', 'cherry'}\n",
    "\n",
    "# Difference Update\n",
    "set1 = {\"apple\", \"banana\", \"cherry\"}\n",
    "set2 = {\"google\", \"microsoft\", \"apple\"}\n",
    "\n",
    "set1.difference_update(set2)\n",
    "print(set1) # {'banana', 'cherry'}\n",
    "\n",
    "\n",
    "# Symmetric Difference - Keep the items which are not present in both the sets\n",
    "\n",
    "set1 = {\"apple\", \"banana\", \"cherry\"}\n",
    "set2 = {\"google\", \"microsoft\", \"apple\"}\n",
    "\n",
    "set3 = set1.symmetric_difference(set2)\n",
    "print(set3) # {'microsoft', 'banana', 'cherry', 'google'}\n",
    "\n",
    "# Use ^ to join two sets:\n",
    "\n",
    "set1 = {\"apple\", \"banana\", \"cherry\"}\n",
    "set2 = {\"google\", \"microsoft\", \"apple\"}\n",
    "\n",
    "set3 = set1 ^ set2\n",
    "print(set3)\n",
    "\n",
    "# Use the symmetric_difference_update() method to keep the items that are not present in both sets:\n",
    "\n",
    "set1 = {\"apple\", \"banana\", \"cherry\"}\n",
    "set2 = {\"google\", \"microsoft\", \"apple\"}\n",
    "\n",
    "set1.symmetric_difference_update(set2)\n",
    "\n",
    "print(set1) # {'banana', 'google', 'cherry', 'microsoft'}\n",
    "\n"
   ]
  },
  {
   "cell_type": "markdown",
   "metadata": {
    "id": "AFCLul0HQyJh"
   },
   "source": [
    "# Functions\n",
    "\n",
    "A function is a block of code which only runs when it is called.\n",
    "You can pass data, known as parameters, into a function.\n",
    "A function can return data as a result.\n",
    "\n"
   ]
  },
  {
   "cell_type": "markdown",
   "metadata": {
    "id": "xpkgj7h7kK97"
   },
   "source": [
    "## Creating & Calling a function\n",
    "\n",
    "In Python a function is defined using the **def** keyword:\n",
    "\n",
    "To call a function, use the function name followed by parenthesis:\n",
    "\n",
    "```python\n",
    "def my_function():\n",
    "    print(\"Hello from a function\")\n",
    "\n",
    "my_function()\n",
    "```\n"
   ]
  },
  {
   "cell_type": "markdown",
   "metadata": {
    "id": "cW2A8YqYkQRu"
   },
   "source": [
    "\n",
    "## Number of Arguments\n",
    "\n",
    "By default, a function must be called with the correct number of arguments. Meaning that if your function expects 2 arguments, you have to call the function with 2 arguments, not more, and not less.\n",
    "\n",
    "```python\n",
    "def my_function(fname, lname):\n",
    "  print(fname + \" \" + lname)\n",
    "\n",
    "my_function(\"Emil\", \"Refsnes\")\n",
    "```\n"
   ]
  },
  {
   "cell_type": "markdown",
   "metadata": {
    "id": "d8yv4yZXkYjN"
   },
   "source": [
    "\n",
    "## Arbitrary Arguments, *args\n",
    "\n",
    "If you do not know how many arguments that will be passed into your function, add a * before the parameter name in the function definition.\n",
    "\n",
    "This way the function will receive a tuple of arguments, and can access the items accordingly:\n",
    "\n",
    "```python\n",
    "def my_function(*kids):\n",
    "  print(\"The youngest child is \" + kids[2])\n",
    "\n",
    "my_function(\"Emil\", \"Tobias\", \"Linus\")\n",
    "```\n"
   ]
  },
  {
   "cell_type": "markdown",
   "metadata": {
    "id": "QeN4Jv1QkeD8"
   },
   "source": [
    "\n",
    "## Keyword Arguments\n",
    "\n",
    "You can also send arguments with the key = value syntax.\n",
    "\n",
    "This way the order of the arguments does not matter.\n",
    "\n",
    "```python\n",
    "def my_function(child3, child2, child1):\n",
    "  print(\"The youngest child is \" + child3)\n",
    "\n",
    "my_function(child1 = \"Emil\", child2 = \"Tobias\", child3 = \"Linus\")\n",
    "```\n",
    "\n",
    "## Arbitrary Keyword Arguments, **kwargs\n",
    "If you do not know how many keyword arguments that will be passed into your function, add two asterisk: ** before the parameter name in the function definition.\n",
    "\n",
    "This way the function will receive a dictionary of arguments, and can access the items accordingly:\n",
    "\n",
    "```python\n",
    "def my_function(**kid):\n",
    "  print(\"His last name is \" + kid[\"lname\"])\n",
    "\n",
    "my_function(fname = \"Tobias\", lname = \"Refsnes\")\n",
    "```\n"
   ]
  },
  {
   "cell_type": "markdown",
   "metadata": {
    "id": "Idu2jv6GkkP5"
   },
   "source": [
    "\n",
    "## Default Parameter Value\n",
    "\n",
    "The following example shows how to use a default parameter value.\n",
    "\n",
    "If we call the function without argument, it uses the default value:\n",
    "\n",
    "```python\n",
    "def my_function(country = \"Norway\"):\n",
    "  print(\"I am from \" + country)\n",
    "\n",
    "my_function(\"India\")\n",
    "my_function()\n",
    "```\n"
   ]
  },
  {
   "cell_type": "markdown",
   "metadata": {
    "id": "BgMD_P88kpVv"
   },
   "source": [
    "\n",
    "## Return values\n",
    "\n",
    "```python\n",
    "def my_function(x):\n",
    "  return 5 * x\n",
    "\n",
    "print(my_function(3))\n",
    "print(my_function(5))\n",
    "```\n"
   ]
  },
  {
   "cell_type": "markdown",
   "metadata": {
    "id": "PwbCmcnCkumW"
   },
   "source": [
    "\n",
    "## Positional-Only Arguments\n",
    "\n",
    "You can specify that a function can have ONLY positional arguments, or ONLY keyword arguments.\n",
    "\n",
    "To specify that a function can have only positional arguments, add , / after the arguments:\n",
    "\n",
    "```python\n",
    "def my_function(x, /):\n",
    "  print(x)\n",
    "\n",
    "my_function(3)\n",
    "```\n",
    "\n"
   ]
  },
  {
   "cell_type": "markdown",
   "metadata": {
    "id": "g_Mm03FOkxFW"
   },
   "source": [
    "## Keyword-Only Arguments\n",
    "To specify that a function can have only keyword arguments, add *, before the arguments:\n",
    "\n",
    "```python\n",
    "def my_function(*, x):\n",
    "  print(x)\n",
    "\n",
    "my_function(x = 3)\n",
    "```\n",
    "\n"
   ]
  },
  {
   "cell_type": "markdown",
   "metadata": {
    "id": "hcRh5nUFkygU"
   },
   "source": [
    "## Combine Positional-Only and Keyword-Only\n",
    "\n",
    "Any argument before the / , are positional-only, and any argument after the *, are keyword-only.\n",
    "\n",
    "```python\n",
    "def my_function(a, b, /, *, c, d):\n",
    "  print(a + b + c + d)\n",
    "\n",
    "my_function(5, 6, c = 7, d = 8)\n",
    "```\n",
    "\n"
   ]
  },
  {
   "cell_type": "code",
   "execution_count": null,
   "metadata": {
    "colab": {
     "base_uri": "https://localhost:8080/"
    },
    "id": "S3sAvRaOQ0G-",
    "outputId": "87e656ff-042e-4c71-f6de-1afeb889a526"
   },
   "outputs": [
    {
     "name": "stdout",
     "output_type": "stream",
     "text": [
      "Emil Refsnes\n",
      "The youngest child is Linus\n",
      "The youngest child is Linus\n",
      "His last name is Refsnes\n"
     ]
    }
   ],
   "source": [
    "def my_function(fname, lname):\n",
    "  print(fname + \" \" + lname)\n",
    "\n",
    "my_function(\"Emil\", \"Refsnes\")\n",
    "\n",
    "# Arbitary Arguments\n",
    "def my_function(*kids):\n",
    "  print(\"The youngest child is \" + kids[2]) # The youngest child is Linus\n",
    "\n",
    "my_function(\"Emil\", \"Tobias\", \"Linus\")\n",
    "\n",
    "# Keyword Arguments\n",
    "def my_function(child3, child2, child1):\n",
    "  print(\"The youngest child is \" + child3)\n",
    "\n",
    "my_function(child1 = \"Emil\", child2 = \"Tobias\", child3 = \"Linus\")\n",
    "\n",
    "# Arbitary Keyword Arguments\n",
    "def my_function(**kid):\n",
    "  print(\"His last name is \" + kid[\"lname\"])\n",
    "\n",
    "my_function(fname = \"Tobias\", lname = \"Refsnes\")\n",
    "\n",
    "# Default Arguments\n",
    "\n",
    "def my_function(country = \"Norway\"):\n",
    "  print(\"I am from \" + country)\n",
    "\n",
    "my_function(\"India\")\n",
    "my_function()\n",
    "\n",
    "# Return Statement\n",
    "def my_function(x):\n",
    "  return 5 * x\n",
    "\n",
    "print(my_function(3))\n",
    "print(my_function(5))"
   ]
  },
  {
   "cell_type": "markdown",
   "metadata": {
    "id": "qohxkDcruzNW"
   },
   "source": [
    "# Dictionaries\n",
    "\n",
    "Dictionaries are used to store data values in key:value pairs.\n",
    "\n",
    "A dictionary is a collection which is ordered*, changeable and do not allow duplicates."
   ]
  },
  {
   "cell_type": "markdown",
   "metadata": {
    "id": "tHEOwESAvHKD"
   },
   "source": [
    "## Intro to Dictionaries\n",
    "\n",
    "```python\n",
    "thisdict = {\n",
    "  \"brand\": \"Ford\",\n",
    "  \"model\": \"Mustang\",\n",
    "  \"year\": 1964\n",
    "}\n",
    "print(thisdict)\n",
    "```\n",
    "\n",
    "## Dictionary Items - Data Types\n",
    "The values in dictionary items can be of any data type:\n",
    "\n",
    "## The dict() Constructor\n",
    "\n",
    "It is also possible to use the dict() constructor to make a dictionary."
   ]
  },
  {
   "cell_type": "code",
   "execution_count": null,
   "metadata": {
    "colab": {
     "base_uri": "https://localhost:8080/"
    },
    "id": "MnGlkvtfvUkb",
    "outputId": "8c5bbcde-a5ee-42db-b6af-b4cdc201f017"
   },
   "outputs": [
    {
     "name": "stdout",
     "output_type": "stream",
     "text": [
      "{'brand': 'Ford', 'model': 'Mustang', 'year': 1964}\n",
      "Ford\n"
     ]
    }
   ],
   "source": [
    "thisdict = {\n",
    "  \"brand\": \"Ford\",\n",
    "  \"electric\": False,\n",
    "  \"year\": 1964,\n",
    "  \"colors\": [\"red\", \"white\", \"blue\"]\n",
    "}\n",
    "print(thisdict)\n",
    "print(thisdict[\"brand\"])\n",
    "print(len(thisdict))\n",
    "print(type(thisdict))\n",
    "\n",
    "thisdict = dict(name = \"John\", age = 36, country = \"Norway\")\n",
    "print(thisdict)\n"
   ]
  },
  {
   "cell_type": "markdown",
   "metadata": {
    "id": "raTMkXOqwJ5G"
   },
   "source": [
    "## Accessing Items\n",
    "\n",
    "* You can access the items of a dictionary by referring to its key name, inside square brackets:\n",
    "\n",
    "* There is also a method called get() that will give you the same result:\n",
    "\n",
    "### Get Keys\n",
    "\n",
    "* The keys() method will return a list of all the keys in the dictionary.\n",
    "\n",
    "### Get Values\n",
    "\n",
    "* The values() method will return a list of all the values in the dictionary.\n",
    "\n",
    "## Get Items\n",
    "\n",
    "* The items() method will return each item in a dictionary, as tuples in a list.\n",
    "* The returned list is a view of the items of the dictionary, meaning that any changes done to the dictionary will be reflected in the items list.\n",
    "* Add a new item to the original dictionary, and see that the items list gets updated as well:\n",
    "\n",
    "```python\n",
    "car = {\n",
    "\"brand\": \"Ford\",\n",
    "\"model\": \"Mustang\",\n",
    "\"year\": 1964\n",
    "}\n",
    "\n",
    "x = car.items()\n",
    "\n",
    "print(x) #before the change\n",
    "\n",
    "car[\"color\"] = \"red\"\n",
    "\n",
    "print(x) #after the change\n",
    "```\n",
    "\n",
    "## Check if Key Exists\n",
    "To determine if a specified key is present in a dictionary use the in keyword:\n",
    "\n",
    "```python\n",
    "thisdict = {\n",
    "  \"brand\": \"Ford\",\n",
    "  \"model\": \"Mustang\",\n",
    "  \"year\": 1964\n",
    "}\n",
    "if \"model\" in thisdict:\n",
    "  print(\"Yes, 'model' is one of the keys in the thisdict dictionary\")\n",
    "```\n",
    "\n",
    "\n"
   ]
  },
  {
   "cell_type": "code",
   "execution_count": null,
   "metadata": {
    "colab": {
     "base_uri": "https://localhost:8080/"
    },
    "id": "Oqn3gMZNw28t",
    "outputId": "7c647120-d2e7-42d4-bda5-bd1703e2d968"
   },
   "outputs": [
    {
     "name": "stdout",
     "output_type": "stream",
     "text": [
      "dict_keys(['brand', 'model', 'year'])\n",
      "dict_values(['Ford', 'Mustang', 1964])\n",
      "dict_items([('brand', 'Ford'), ('model', 'Mustang'), ('year', 1964)])\n",
      "dict_items([('brand', 'Ford'), ('model', 'Mustang'), ('year', 1964)])\n",
      "dict_items([('brand', 'Ford'), ('model', 'Mustang'), ('year', 2020)])\n",
      "dict_items([('brand', 'Ford'), ('model', 'Mustang'), ('year', 2020)])\n",
      "dict_items([('brand', 'Ford'), ('model', 'Mustang'), ('year', 2020), ('price', 20000)])\n"
     ]
    }
   ],
   "source": [
    "thisdict = {\n",
    "  \"brand\": \"Ford\",\n",
    "  \"model\": \"Mustang\",\n",
    "  \"year\": 1964\n",
    "}\n",
    "x = thisdict[\"model\"]\n",
    "\n",
    "# list of all keys\n",
    "x = thisdict.keys()\n",
    "print(x) # dict_keys(['brand', 'model', 'year'])\n",
    "\n",
    "# list all values\n",
    "print(thisdict.values()) # dict_values(['Ford', 'Mustang', 1964])\n",
    "\n",
    "# list all items\n",
    "x = thisdict.items()\n",
    "print(x) # dict_items([('brand', 'Ford'), ('model', 'Mustang'), ('year', 1964)])\n",
    "print(x) #before the change\n",
    "\n",
    "thisdict[\"year\"] = 2020\n",
    "\n",
    "print(x) #after the change\n",
    "\n",
    "print(x) #before adding new item\n",
    "\n",
    "thisdict[\"price\"] = 20000\n",
    "\n",
    "print(x) #after the adding new item # dict_items([('brand', 'Ford'), ('model', 'Mustang'), ('year', 2020), ('price', 20000)])\n"
   ]
  },
  {
   "cell_type": "markdown",
   "metadata": {
    "id": "gNynla-M1_gg"
   },
   "source": [
    "## Change / Add Values\n",
    "\n",
    "* You can change the value of a specific item by referring to its key name:\n",
    "* Adding an item to the dictionary is done by using a new index key and assigning a value to it:\n",
    "\n",
    "\n",
    "### Update Dictionary\n",
    "*  The update() method will update the dictionary with the items from a given argument. If the item does not exist, the item will be added.\n",
    "\n",
    "* The argument must be a dictionary, or an iterable object with key:value pairs.\n"
   ]
  },
  {
   "cell_type": "code",
   "execution_count": null,
   "metadata": {
    "colab": {
     "base_uri": "https://localhost:8080/"
    },
    "id": "4rfDJZ4-2Pja",
    "outputId": "b8c3dc6c-f4bd-4561-9f55-17ad9bae99be"
   },
   "outputs": [
    {
     "name": "stdout",
     "output_type": "stream",
     "text": [
      "{'brand': 'Ford', 'model': 'Mustang', 'year': 2018}\n",
      "{'brand': 'Ford', 'model': 'Mustang', 'year': 2020}\n",
      "{'brand': 'Ford', 'model': 'Mustang', 'year': 2020, 'price': 20000}\n"
     ]
    }
   ],
   "source": [
    "thisdict = {\n",
    "  \"brand\": \"Ford\",\n",
    "  \"model\": \"Mustang\",\n",
    "  \"year\": 1964\n",
    "}\n",
    "thisdict[\"year\"] = 2018\n",
    "\n",
    "print(thisdict) # {'brand': 'Ford', 'model': 'Mustang', 'year': 2018}\n",
    "\n",
    "thisdict.update({\"year\": 2020})\n",
    "print(thisdict) # {'brand': 'Ford', 'model': 'Mustang', 'year': 2020}\n",
    "thisdict.update({ \"price\": 20000})\n",
    "print(thisdict) # {'brand': 'Ford', 'model': 'Mustang', 'year': 2020, 'price': 20000}\n",
    "\n"
   ]
  },
  {
   "cell_type": "markdown",
   "metadata": {
    "id": "Q2WVYebN3XvX"
   },
   "source": [
    "## Removing Items\n",
    "\n",
    "* The **pop()** method removes the item with the specified key name:\n",
    "\n",
    "* The popitem() method removes the last inserted item (in versions before 3.7, a random item is removed instead):\n",
    "\n",
    "* The **del** keyword removes the item with the specified key name:\n",
    "\n",
    "* The del keyword can also delete the dictionary completely:\n",
    "\n",
    "* The **clear()** method empties the dictionary:\n",
    "\n",
    "\n",
    "\n",
    "\n",
    "\n"
   ]
  },
  {
   "cell_type": "code",
   "execution_count": null,
   "metadata": {
    "colab": {
     "base_uri": "https://localhost:8080/"
    },
    "id": "HL1Qc5Xu3tXa",
    "outputId": "edc8fa45-6f82-4a42-8151-da95dee34eb9"
   },
   "outputs": [
    {
     "name": "stdout",
     "output_type": "stream",
     "text": [
      "{'brand': 'Ford', 'year': 1964}\n",
      "{'brand': 'Ford', 'model': 'Mustang'}\n",
      "{'brand': 'Ford', 'year': 1964}\n",
      "{}\n"
     ]
    }
   ],
   "source": [
    "# pop\n",
    "\n",
    "thisdict = {\n",
    "  \"brand\": \"Ford\",\n",
    "  \"model\": \"Mustang\",\n",
    "  \"year\": 1964\n",
    "}\n",
    "thisdict.pop(\"model\")\n",
    "print(thisdict) # # {'brand': 'Ford', 'year': 1964}\n",
    "\n",
    "#popitem\n",
    "\n",
    "thisdict = {\n",
    "  \"brand\": \"Ford\",\n",
    "  \"model\": \"Mustang\",\n",
    "  \"year\": 1964\n",
    "}\n",
    "thisdict.popitem()\n",
    "print(thisdict) # {'brand': 'Ford', 'model': 'Mustang'}\n",
    "\n",
    "# del\n",
    "thisdict = {\n",
    "  \"brand\": \"Ford\",\n",
    "  \"model\": \"Mustang\",\n",
    "  \"year\": 1964\n",
    "}\n",
    "del thisdict[\"model\"]\n",
    "print(thisdict) # {'brand': 'Ford', 'year': 1964}\n",
    "\n",
    "# del entire dict\n",
    "\n",
    "thisdict = {\n",
    "  \"brand\": \"Ford\",\n",
    "  \"model\": \"Mustang\",\n",
    "  \"year\": 1964\n",
    "}\n",
    "del thisdict\n",
    "# print(thisdict) #this will cause an error because \"thisdict\" no longer exists.\n",
    "\n",
    "\n",
    "# clear\n",
    "thisdict = {\n",
    "  \"brand\": \"Ford\",\n",
    "  \"model\": \"Mustang\",\n",
    "  \"year\": 1964\n",
    "}\n",
    "thisdict.clear()\n",
    "print(thisdict) # {}"
   ]
  },
  {
   "cell_type": "markdown",
   "metadata": {
    "id": "8tGfE8NP4icb"
   },
   "source": [
    "## Loop Through a Dictionary\n",
    "\n",
    "* You can loop through a dictionary by using a for loop.\n",
    "\n",
    "* When looping through a dictionary, the return value are the keys of the dictionary, but there are methods to return the values as well.\n",
    "\n",
    "* Below code Print all key names in the dictionary, one by one:\n",
    "\n",
    "```python\n",
    "for x in thisdict:\n",
    "  print(x)\n",
    "```\n",
    "\n",
    "* You can use the **keys()** method to return the keys of a dictionary:\n",
    "\n",
    "```python\n",
    "for x in thisdict.keys():\n",
    "  print(x)\n",
    "```\n",
    "\n",
    "* Print all values\n",
    "\n",
    "```python\n",
    "for x in thisdict:\n",
    "  print(thisdict[x])\n",
    "```\n",
    "\n",
    "* You can also use the **values()** method to return values of a dictionary:\n",
    "\n",
    "```python\n",
    "for x in thisdict.values():\n",
    "  print(x)\n",
    "```\n",
    "\n",
    "* Loop through both keys and values, by using the items() method:\n",
    "\n",
    "```python\n",
    "for x, y in thisdict.items():\n",
    "  print(x, y)\n",
    "```\n"
   ]
  },
  {
   "cell_type": "code",
   "execution_count": null,
   "metadata": {
    "colab": {
     "base_uri": "https://localhost:8080/"
    },
    "id": "DvZj2xEw5Jxo",
    "outputId": "4b5357b4-9bc2-43d3-f0f0-3487fc8988af"
   },
   "outputs": [
    {
     "name": "stdout",
     "output_type": "stream",
     "text": [
      "type\n",
      "name\n",
      "type\n",
      "name\n",
      "fruit\n",
      "apple\n",
      "fruit\n",
      "apple\n",
      "key: type value: fruit\n",
      "key: name value: apple\n"
     ]
    }
   ],
   "source": [
    "mydict = {'type' : 'fruit', 'name' : 'apple'}\n",
    "\n",
    "# print keys\n",
    "for x in mydict:\n",
    "  print(x)\n",
    "\n",
    "# using keys() method\n",
    "\n",
    "for x in mydict.keys():\n",
    "  print(x)\n",
    "\n",
    "\n",
    "# print values\n",
    "for x in mydict:\n",
    "  print(mydict[x])\n",
    "\n",
    "# using values() method\n",
    "for x in mydict.values():\n",
    "  print(x)\n",
    "\n",
    "# print both\n",
    "for x,y in mydict.items():\n",
    "  print(\"key: \" + x + \" \" + \"value: \" + y)"
   ]
  },
  {
   "cell_type": "markdown",
   "metadata": {
    "id": "JbksadPu6bWo"
   },
   "source": [
    "## Copy Dictionaires\n",
    "\n",
    "* You cannot copy a dictionary simply by typing dict2 = dict1, because: dict2 will only be a reference to dict1, and changes made in dict1 will automatically also be made in dict2.\n",
    "\n",
    "* There are ways to make a copy, one way is to use the built-in Dictionary method **copy()**.\n",
    "\n",
    "* Another way to make a copy is to use the built-in function dict().\n",
    "\n"
   ]
  },
  {
   "cell_type": "code",
   "execution_count": null,
   "metadata": {
    "colab": {
     "base_uri": "https://localhost:8080/"
    },
    "id": "U8zitas36mas",
    "outputId": "272dc9ca-2cf5-4216-e87a-77539fbad075"
   },
   "outputs": [
    {
     "name": "stdout",
     "output_type": "stream",
     "text": [
      "{'brand': 'Ford', 'model': 'Mustang', 'year': 1964}\n",
      "{'brand': 'Ford', 'model': 'Mustang', 'year': 1964}\n"
     ]
    }
   ],
   "source": [
    "# copying using copy()\n",
    "\n",
    "thisdict = {\n",
    "  \"brand\": \"Ford\",\n",
    "  \"model\": \"Mustang\",\n",
    "  \"year\": 1964\n",
    "}\n",
    "mydict = thisdict.copy()\n",
    "print(mydict) # {'brand': 'Ford', 'model': 'Mustang', 'year': 1964}\n",
    "\n",
    "# using dict\n",
    "thisdict = {\n",
    "  \"brand\": \"Ford\",\n",
    "  \"model\": \"Mustang\",\n",
    "  \"year\": 1964\n",
    "}\n",
    "mydict2 = dict(thisdict)\n",
    "print(mydict2) # {'brand': 'Ford', 'model': 'Mustang', 'year': 1964}\n"
   ]
  },
  {
   "cell_type": "markdown",
   "metadata": {
    "id": "GWbN7T4L609_"
   },
   "source": [
    "## Nested Dictionaries\n",
    "\n",
    "* A dictionary can contain dictionaries, this is called nested dictionaries.\n",
    "\n",
    "* A dictionary can have any no.of nestings"
   ]
  },
  {
   "cell_type": "code",
   "execution_count": null,
   "metadata": {
    "colab": {
     "base_uri": "https://localhost:8080/"
    },
    "id": "Dx0Iojdz6-eB",
    "outputId": "9fc6e61b-abc9-4832-c891-fb249560b16d"
   },
   "outputs": [
    {
     "name": "stdout",
     "output_type": "stream",
     "text": [
      "Tobias\n",
      "child1\n",
      "name: Emil\n",
      "year: 2004\n",
      "child2\n",
      "name: Tobias\n",
      "year: 2007\n",
      "child3\n",
      "name: Linus\n",
      "year: 2011\n"
     ]
    }
   ],
   "source": [
    "# nested dict\n",
    "\n",
    "myfamily = {\n",
    "  \"child1\" : {\n",
    "    \"name\" : \"Emil\",\n",
    "    \"year\" : 2004\n",
    "  },\n",
    "  \"child2\" : {\n",
    "    \"name\" : \"Tobias\",\n",
    "    \"year\" : 2007\n",
    "  },\n",
    "  \"child3\" : {\n",
    "    \"name\" : \"Linus\",\n",
    "    \"year\" : 2011\n",
    "  }\n",
    "}\n",
    "\n",
    "# accessing\n",
    "print(myfamily[\"child2\"][\"name\"])\n",
    "\n",
    "# Loop Through Nested Dictionaries\n",
    "\n",
    "for x, obj in myfamily.items():\n",
    "  print(x) # print the key\n",
    "\n",
    "  for y in obj:\n",
    "    print(y + ':', obj[y]) # print the nested key and value"
   ]
  },
  {
   "cell_type": "code",
   "execution_count": null,
   "metadata": {
    "id": "m6qJ54W8BDL_"
   },
   "outputs": [],
   "source": [
    "from google.colab import drive\n",
    "drive.mount('/content/drive')"
   ]
  },
  {
   "cell_type": "markdown",
   "metadata": {
    "id": "GPT-j8z98sNH"
   },
   "source": [
    "# Lambda Function\n",
    "\n",
    "* A lambda function is a small anonymous function.\n",
    "\n",
    "* A lambda function can take any number of arguments, but can only have one expression.\n",
    "\n",
    "* Use lambda functions when an anonymous function is required for a short period of time.\n",
    "\n",
    "\n",
    "\n",
    "* Syntax: ```lambda arguments : expression```"
   ]
  },
  {
   "cell_type": "code",
   "execution_count": null,
   "metadata": {
    "colab": {
     "base_uri": "https://localhost:8080/"
    },
    "id": "EQ0TelyK861O",
    "outputId": "d79977b8-a020-4145-c6df-a9cff27b4631"
   },
   "outputs": [
    {
     "name": "stdout",
     "output_type": "stream",
     "text": [
      "15\n",
      "30\n",
      "13\n"
     ]
    }
   ],
   "source": [
    "# Add 10 to argument a, and return the result:\n",
    "\n",
    "x = lambda a : a + 10\n",
    "print(x(5))\n",
    "\n",
    "x = lambda a, b : a * b\n",
    "print(x(5, 6))\n",
    "\n",
    "x = lambda a, b, c : a + b + c\n",
    "print(x(5, 6, 2))"
   ]
  },
  {
   "cell_type": "markdown",
   "metadata": {
    "id": "82sBFaLm9GoP"
   },
   "source": [
    "## Why Use Lambda Functions\n",
    "\n",
    "* The power of lambda is better shown when you use them as an anonymous function inside another function.\n",
    "\n",
    "* Say you have a function definition that takes one argument, and that argument will be multiplied with an unknown number:\n",
    "\n",
    "```python\n",
    "def myfunc(n):\n",
    "  return lambda a : a * n\n",
    "```\n",
    "\n",
    "* Use that function definition to make a function that always doubles the number you send in:\n",
    "\n",
    "```python\n",
    "def myfunc(n):\n",
    "  return lambda a : a * n\n",
    "\n",
    "mydoubler = myfunc(2)\n",
    "\n",
    "print(mydoubler(11))\n",
    "```\n",
    "\n",
    "* Or, use the same function definition to make a function that always triples the number you send in:\n",
    "\n",
    "```python\n",
    "def myfunc(n):\n",
    "  return lambda a : a * n\n",
    "\n",
    "mytripler = myfunc(3)\n",
    "\n",
    "print(mytripler(11))\n",
    "```\n",
    "\n",
    "* Or, use the same function definition to make both functions, in the same program:\n",
    "\n",
    "```python\n",
    "def myfunc(n):\n",
    "  return lambda a : a * n\n",
    "\n",
    "mydoubler = myfunc(2)\n",
    "mytripler = myfunc(3)\n",
    "\n",
    "print(mydoubler(11))\n",
    "print(mytripler(11))\n",
    "```\n",
    "\n"
   ]
  },
  {
   "cell_type": "code",
   "execution_count": null,
   "metadata": {
    "colab": {
     "base_uri": "https://localhost:8080/"
    },
    "id": "IH-tUNOf9fIl",
    "outputId": "5cdc8308-6ecc-42e1-a9e8-a7b1b6a36d37"
   },
   "outputs": [
    {
     "name": "stdout",
     "output_type": "stream",
     "text": [
      "22\n",
      "33\n"
     ]
    }
   ],
   "source": [
    "def myfunc(n):\n",
    "  return lambda a : a * n\n",
    "\n",
    "mydoubler = myfunc(2)\n",
    "mytripler = myfunc(3)\n",
    "\n",
    "print(mydoubler(11)) # 22\n",
    "print(mytripler(11)) # 33"
   ]
  },
  {
   "cell_type": "markdown",
   "metadata": {
    "id": "DmOGfgeXT0-4"
   },
   "source": [
    "# OOPS\n",
    "\n"
   ]
  },
  {
   "cell_type": "markdown",
   "metadata": {
    "id": "UX37rdK5UEbj"
   },
   "source": [
    "## Classes & Objects\n",
    "\n",
    "* Python is an object oriented programming language.\n",
    "* Almost everything in Python is an object, with its properties and methods.\n",
    "* A Class is like an object constructor, or a \"blueprint\" for creating objects.\n",
    "\n",
    "\n",
    "## Creating a Class\n",
    "\n",
    "* To create a class, use the keyword **class**:\n",
    "\n",
    "```python\n",
    "class MyClass:\n",
    "  x = 5\n",
    "```\n",
    "\n",
    "## Create object\n",
    "\n",
    "* Now we can use the class named MyClass to create objects:\n",
    "\n",
    "```python\n",
    "p1 = MyClass()\n",
    "print(p1.x)\n",
    "```\n",
    "\n",
    "\n"
   ]
  },
  {
   "cell_type": "markdown",
   "metadata": {
    "id": "WICj_J1XUz-y"
   },
   "source": [
    "\n",
    "## The __init__() Function\n",
    "\n",
    "* The examples above are classes and objects in their simplest form, and are not really useful in real life applications.\n",
    "\n",
    "* To understand the meaning of classes we have to understand the built-in __init__() function.\n",
    "\n",
    "* All classes have a function called __init__(), which is always executed when the class is being initiated.\n",
    "\n",
    "* Use the __init__() function to assign values to object properties, or other operations that are necessary to do when the object is being created:\n",
    "\n",
    "* The __init__() function is called automatically every time the class is being used to create a new object."
   ]
  },
  {
   "cell_type": "code",
   "execution_count": null,
   "metadata": {
    "colab": {
     "base_uri": "https://localhost:8080/"
    },
    "id": "DRn-tY-gU1Dn",
    "outputId": "26af698a-a191-46e2-b2bf-19974c3f8b16"
   },
   "outputs": [
    {
     "name": "stdout",
     "output_type": "stream",
     "text": [
      "John\n",
      "36\n"
     ]
    }
   ],
   "source": [
    "class Person:\n",
    "  def __init__(self, name, age):\n",
    "    self.name = name\n",
    "    self.age = age\n",
    "\n",
    "p1 = Person(\"John\", 36)\n",
    "\n",
    "print(p1.name)\n",
    "print(p1.age)"
   ]
  },
  {
   "cell_type": "markdown",
   "metadata": {
    "id": "eQYwjSggVIpu"
   },
   "source": [
    "## The __str__() Function\n",
    "\n",
    "* The __str__() function controls what should be returned when the class object is represented as a string.\n",
    "\n",
    "* If the __str__() function is not set, the string representation of the object is returned:"
   ]
  },
  {
   "cell_type": "code",
   "execution_count": null,
   "metadata": {
    "colab": {
     "base_uri": "https://localhost:8080/"
    },
    "id": "zfaG_dgHVOdk",
    "outputId": "7be8eb6c-11fc-42a3-c9b5-421e727ee307"
   },
   "outputs": [
    {
     "name": "stdout",
     "output_type": "stream",
     "text": [
      "<__main__.Person object at 0x7e4378a4f850>\n",
      "John(36)\n"
     ]
    }
   ],
   "source": [
    "class Person:\n",
    "  def __init__(self, name, age):\n",
    "    self.name = name\n",
    "    self.age = age\n",
    "\n",
    "p1 = Person(\"John\", 36)\n",
    "\n",
    "print(p1) # <__main__.Person object at 0x7e4378a4f850>\n",
    "\n",
    "# The string representation of an object WITH the __str__() function:\n",
    "\n",
    "class Person:\n",
    "  def __init__(self, name, age):\n",
    "    self.name = name\n",
    "    self.age = age\n",
    "\n",
    "  def __str__(self):\n",
    "    return f\"{self.name}({self.age})\"\n",
    "\n",
    "p1 = Person(\"John\", 36)\n",
    "\n",
    "print(p1) # John(36)\n"
   ]
  },
  {
   "cell_type": "markdown",
   "metadata": {
    "id": "SsAitXyvVeVC"
   },
   "source": [
    "## Object Methods\n",
    "\n",
    "* Objects can also contain methods. Methods in objects are functions that belong to the object.\n",
    "\n",
    "Let us create a method in the Person class:\n",
    "\n"
   ]
  },
  {
   "cell_type": "code",
   "execution_count": null,
   "metadata": {
    "colab": {
     "base_uri": "https://localhost:8080/"
    },
    "id": "gQPxe-KNVjmD",
    "outputId": "7f9235b4-b6f5-4241-b438-55ea9c54e8a6"
   },
   "outputs": [
    {
     "name": "stdout",
     "output_type": "stream",
     "text": [
      "Hello my name is John\n"
     ]
    }
   ],
   "source": [
    "# Insert a function that prints a greeting, and execute it on the p1 object:\n",
    "\n",
    "class Person:\n",
    "  def __init__(self, name, age):\n",
    "    self.name = name\n",
    "    self.age = age\n",
    "\n",
    "  def myfunc(self):\n",
    "    print(\"Hello my name is \" + self.name)\n",
    "\n",
    "p1 = Person(\"John\", 36)\n",
    "p1.myfunc() # Hello my name is John\n"
   ]
  },
  {
   "cell_type": "markdown",
   "metadata": {
    "id": "ykGwCIFLVs6Q"
   },
   "source": [
    "## The self Parameter\n",
    "\n",
    "* The self parameter is a reference to the current instance of the class, and is used to access variables that belongs to the class.\n",
    "\n",
    "* It does not have to be named self , you can call it whatever you like, but it has to be the first parameter of any function in the class:\n",
    "\n"
   ]
  },
  {
   "cell_type": "code",
   "execution_count": null,
   "metadata": {
    "colab": {
     "base_uri": "https://localhost:8080/"
    },
    "id": "Sf2FWxUkVyEf",
    "outputId": "07b3d776-f68f-445a-c3df-3231a0bdf295"
   },
   "outputs": [
    {
     "name": "stdout",
     "output_type": "stream",
     "text": [
      "Hello my name is John\n"
     ]
    }
   ],
   "source": [
    "# Use the words mysillyobject and abc instead of self:\n",
    "\n",
    "class Person:\n",
    "  def __init__(mysillyobject, name, age):\n",
    "    mysillyobject.name = name\n",
    "    mysillyobject.age = age\n",
    "\n",
    "  def myfunc(abc):\n",
    "    print(\"Hello my name is \" + abc.name)\n",
    "\n",
    "p1 = Person(\"John\", 36)\n",
    "p1.myfunc()"
   ]
  },
  {
   "cell_type": "markdown",
   "metadata": {
    "id": "-mTu7jppV3k7"
   },
   "source": [
    "## Modify & Delete Object Properties\n",
    "\n",
    "* You can delete properties on objects by using the del keyword:\n",
    "\n"
   ]
  },
  {
   "cell_type": "code",
   "execution_count": null,
   "metadata": {
    "colab": {
     "base_uri": "https://localhost:8080/"
    },
    "id": "s2h2w2--WA4V",
    "outputId": "d2c8fe4d-a5c6-437b-a819-ceb698eec619"
   },
   "outputs": [
    {
     "name": "stdout",
     "output_type": "stream",
     "text": [
      "Hello my name is John\n",
      "45\n"
     ]
    }
   ],
   "source": [
    "class Person:\n",
    "  def __init__(self, name, age):\n",
    "    self.name = name\n",
    "    self.age = age\n",
    "\n",
    "  def myfunc(self):\n",
    "    print(\"Hello my name is \" + self.name)\n",
    "\n",
    "p1 = Person(\"John\", 36)\n",
    "p1.myfunc()\n",
    "\n",
    "# modify\n",
    "p1.age = 45\n",
    "\n",
    "print(p1.age) # 45\n",
    "\n",
    "# delete\n",
    "\n",
    "del p1.age"
   ]
  },
  {
   "cell_type": "markdown",
   "metadata": {
    "id": "B81Br8y3WiN2"
   },
   "source": [
    "## Inheritance\n",
    "\n",
    "* Inheritance allows us to define a class that inherits all the methods and properties from another class.\n",
    "\n",
    "* Parent class is the class being inherited from, also called base class.\n",
    "\n",
    "* Child class is the class that inherits from another class, also called derived class.\n",
    "\n",
    "\n",
    "### Create a Parent Class\n",
    "* Any class can be a parent class, so the syntax is the same as creating any other class:\n",
    "\n",
    "### Create a Child Class\n",
    "\n",
    "* To create a class that inherits the functionality from another class, send the parent class as a parameter when creating the child class:\n",
    "\n",
    "* If you dont want to add anything in child class then just add **pass** keyword.\n",
    "\n",
    "* When you add the __init__() function, the child class will no longer inherit the parent's __init__() function.\n",
    "\n",
    "* Because child __init__() will be overrides the parent one\n",
    "\n",
    "* To keep the inheritance of the parent's __init__() function, add a call to the parent's __init__() function:\n",
    "\n",
    "* Python also has a super() function that will make the child class inherit all the methods and properties from its parent:\n",
    "\n",
    "* By using the super() function, you do not have to use the name of the parent element, it will automatically inherit the methods and properties from its parent.\n",
    "\n",
    "* If you add a method in the child class with the same name as a function in the parent class, the inheritance of the parent method will be overridden.\n",
    "\n",
    "\n",
    "\n",
    "\n",
    "\n"
   ]
  },
  {
   "cell_type": "code",
   "execution_count": null,
   "metadata": {
    "colab": {
     "base_uri": "https://localhost:8080/"
    },
    "id": "2gYE9cb1Ww3p",
    "outputId": "97a24c4f-2c43-48ab-f4ee-5b6c37d41819"
   },
   "outputs": [
    {
     "name": "stdout",
     "output_type": "stream",
     "text": [
      "John Doe\n",
      "Mike Olsen\n",
      "Bindu Madhavi\n",
      "Welcome Bindu Madhavi to the class of 2025\n",
      "Welcome Bindu Madhavi to the class of 2025\n"
     ]
    }
   ],
   "source": [
    "# Creating parent class\n",
    "\n",
    "class Person:\n",
    "  def __init__(self, fname, lname):\n",
    "    self.firstname = fname\n",
    "    self.lastname = lname\n",
    "\n",
    "  def printname(self):\n",
    "    print(self.firstname, self.lastname)\n",
    "\n",
    "  def fullname(self):\n",
    "    return f\"{self.firstname} {self.lastname}\"\n",
    "\n",
    "#Use the Person class to create an object, and then execute the printname method:\n",
    "\n",
    "x = Person(\"John\", \"Doe\")\n",
    "x.printname()\n",
    "\n",
    "# Create child class which will inherit the properties and methods from the Person class:\n",
    "# Note: Use the pass keyword when you do not want to add any other properties or methods to the class.\n",
    "\n",
    "class Student(Person):\n",
    "  pass\n",
    "\n",
    "# Use the Student class to create an object, and then execute the printname method:\n",
    "\n",
    "x = Student(\"Mike\", \"Olsen\")\n",
    "x.printname()\n",
    "\n",
    "\n",
    "# Add the __init__() Function to child class\n",
    "\n",
    "class Student(Person):\n",
    "  def __init__(self, fname, lname, year):\n",
    "    super().__init__(fname, lname) # same as Person.__init__(self, fname, lname)\n",
    "    self.graduationyear = year\n",
    "\n",
    "  def welcome(self):\n",
    "    print(\"Welcome\", self.firstname, self.lastname, \"to the class of\", self.graduationyear)\n",
    "\n",
    "  def welcome2(self):\n",
    "    print(\"Welcome\", super().fullname(), \"to the class of\", self.graduationyear)\n",
    "\n",
    "\n",
    "x = Student(\"Bindu\", \"Madhavi\", 2025)\n",
    "x.printname()\n",
    "x.welcome()\n",
    "x.welcome2()"
   ]
  },
  {
   "cell_type": "markdown",
   "metadata": {
    "id": "Xm_gDxJnauXF"
   },
   "source": [
    "## Python Iterators\n",
    "\n",
    "* An iterator is an object that contains a countable number of values.\n",
    "\n",
    "* An iterator is an object that can be iterated upon, meaning that you can traverse through all the values.\n",
    "\n",
    "* Technically, in Python, an iterator is an object which implements the iterator protocol, which consist of the methods __iter__() and __next__().\n",
    "\n",
    "### Iterator vs Iterable\n",
    "\n",
    "* Lists, tuples, dictionaries, strings and sets are all iterable objects. They are iterable containers which you can get an iterator from.\n",
    "\n",
    "* All these objects have a iter() method which is used to get an iterator:\n",
    "\n",
    "```python\n",
    "mytuple = (\"apple\", \"banana\", \"cherry\")\n",
    "myit = iter(mytuple)\n",
    "\n",
    "print(next(myit))\n",
    "print(next(myit))\n",
    "print(next(myit))\n",
    "```\n",
    "\n",
    "* The for loop actually creates an iterator object and executes the next() method for each loop.\n",
    "\n",
    "### Create an Iterator\n",
    "\n",
    "* To create an object/class as an iterator you have to implement the methods __iter__() and __next__() to your object.\n",
    "\n",
    "* As you have learned in the Python Classes/Objects chapter, all classes have a function called __init__(), which allows you to do some initializing when the object is being created.\n",
    "\n",
    "* The __iter__() method acts similar, you can do operations (initializing etc.), but must always return the iterator object itself.\n",
    "\n",
    "* The __next__() method also allows you to do operations, and must return the next item in the sequence.\n",
    "\n",
    "## StopIteration\n",
    "\n",
    "* To prevent the iteration from going on forever, we can use the StopIteration statement.\n",
    "\n",
    "* In the __next__() method, we can add a terminating condition to raise an error if the iteration is done a specified number of times:"
   ]
  },
  {
   "cell_type": "code",
   "execution_count": null,
   "metadata": {
    "colab": {
     "base_uri": "https://localhost:8080/"
    },
    "collapsed": true,
    "id": "BFiCf_FfbWUr",
    "jupyter": {
     "outputs_hidden": true
    },
    "outputId": "6184ca60-5eb0-4d85-ae90-fa5fbcf815d9"
   },
   "outputs": [
    {
     "name": "stdout",
     "output_type": "stream",
     "text": [
      "1\n",
      "2\n",
      "3\n",
      "4\n",
      "5\n",
      "1\n",
      "2\n",
      "3\n",
      "4\n",
      "5\n",
      "6\n",
      "7\n",
      "8\n",
      "9\n",
      "10\n",
      "11\n",
      "12\n",
      "13\n",
      "14\n",
      "15\n",
      "16\n",
      "17\n",
      "18\n",
      "19\n",
      "20\n"
     ]
    }
   ],
   "source": [
    "# Create an iterator that returns numbers, starting with 1, and each sequence will increase by one (returning 1,2,3,4,5 etc.):\n",
    "\n",
    "class MyNumbers:\n",
    "  def __iter__(self):\n",
    "    self.a = 1\n",
    "    return self\n",
    "\n",
    "  def __next__(self):\n",
    "    x = self.a\n",
    "    self.a += 1\n",
    "    return x\n",
    "\n",
    "myclass = MyNumbers()\n",
    "myiter = iter(myclass)\n",
    "\n",
    "print(next(myiter))\n",
    "print(next(myiter))\n",
    "print(next(myiter))\n",
    "print(next(myiter))\n",
    "print(next(myiter))\n",
    "\n",
    "# Stop Iteration\n",
    "\n",
    "class MyNumbers:\n",
    "  def __iter__(self):\n",
    "    self.a = 1\n",
    "    return self\n",
    "\n",
    "  def __next__(self):\n",
    "    if self.a <= 20:\n",
    "      x = self.a\n",
    "      self.a += 1\n",
    "      return x\n",
    "    else:\n",
    "      raise StopIteration\n",
    "\n",
    "myclass = MyNumbers()\n",
    "myiter = iter(myclass)\n",
    "\n",
    "for x in myiter:\n",
    "  print(x)\n"
   ]
  },
  {
   "cell_type": "markdown",
   "metadata": {
    "id": "zpnIKp2acc7-"
   },
   "source": [
    "## Python Polymorphism\n",
    "\n",
    "* The word \"polymorphism\" means \"many forms\", and in programming it refers to methods/functions/operators with the same name that can be executed on many objects or classes\n",
    "\n",
    "* An example of a Python function that can be used on different objects ex: tuples, list, sets, string etc is the len() function.\n",
    "\n",
    "\n",
    "## Class Polymorphism\n",
    "\n",
    "* Polymorphism is often used in Class methods, where we can have multiple classes with the same method name.\n",
    "\n",
    "* For example, say we have three classes: Car, Boat, and Plane, and they all have a method called move():\n",
    "\n",
    "## Inheritance Class Polymorphism\n",
    "\n",
    "* What about classes with child classes with the same name? Can we use polymorphism there?\n",
    "\n",
    "* Yes. If we use the example above and make a parent class called Vehicle, and make Car, Boat, Plane child classes of Vehicle, the child classes inherits the Vehicle methods, but can override them:\n",
    "\n",
    "\n"
   ]
  },
  {
   "cell_type": "code",
   "execution_count": null,
   "metadata": {
    "colab": {
     "base_uri": "https://localhost:8080/"
    },
    "collapsed": true,
    "id": "LklN6efMc8RO",
    "jupyter": {
     "outputs_hidden": true
    },
    "outputId": "9b20623e-d4f2-4a86-b787-edd2cbad166d"
   },
   "outputs": [
    {
     "name": "stdout",
     "output_type": "stream",
     "text": [
      "Drive!\n",
      "Sail!\n",
      "Fly!\n",
      "Ford\n",
      "Mustang\n",
      "Move!\n",
      "Ibiza\n",
      "Touring 20\n",
      "Sail!\n",
      "Boeing\n",
      "747\n",
      "Fly!\n"
     ]
    }
   ],
   "source": [
    "# Different classes with the same method:\n",
    "\n",
    "class Car:\n",
    "  def __init__(self, brand, model):\n",
    "    self.brand = brand\n",
    "    self.model = model\n",
    "\n",
    "  def move(self):\n",
    "    print(\"Drive!\")\n",
    "\n",
    "class Boat:\n",
    "  def __init__(self, brand, model):\n",
    "    self.brand = brand\n",
    "    self.model = model\n",
    "\n",
    "  def move(self):\n",
    "    print(\"Sail!\")\n",
    "\n",
    "class Plane:\n",
    "  def __init__(self, brand, model):\n",
    "    self.brand = brand\n",
    "    self.model = model\n",
    "\n",
    "  def move(self):\n",
    "    print(\"Fly!\")\n",
    "\n",
    "car1 = Car(\"Ford\", \"Mustang\")       #Create a Car class\n",
    "boat1 = Boat(\"Ibiza\", \"Touring 20\") #Create a Boat class\n",
    "plane1 = Plane(\"Boeing\", \"747\")     #Create a Plane class\n",
    "\n",
    "for x in (car1, boat1, plane1):\n",
    "  x.move()\n",
    "\n",
    "# Inheritance Class Polymorphism\n",
    "\n",
    "class Vehicle:\n",
    "  def __init__(self, brand, model):\n",
    "    self.brand = brand\n",
    "    self.model = model\n",
    "\n",
    "  def move(self):\n",
    "    print(\"Move!\")\n",
    "\n",
    "class Car(Vehicle):\n",
    "  pass\n",
    "\n",
    "class Boat(Vehicle):\n",
    "  def move(self):\n",
    "    print(\"Sail!\")\n",
    "\n",
    "class Plane(Vehicle):\n",
    "  def move(self):\n",
    "    print(\"Fly!\")\n",
    "\n",
    "car1 = Car(\"Ford\", \"Mustang\") #Create a Car object\n",
    "boat1 = Boat(\"Ibiza\", \"Touring 20\") #Create a Boat object\n",
    "plane1 = Plane(\"Boeing\", \"747\") #Create a Plane object\n",
    "\n",
    "for x in (car1, boat1, plane1):\n",
    "  print(x.brand)\n",
    "  print(x.model)\n",
    "  x.move()"
   ]
  },
  {
   "cell_type": "markdown",
   "metadata": {
    "id": "boQFE1IneFl6"
   },
   "source": [
    "## Scope\n",
    "\n",
    "* A variable is only available from inside the region it is created. This is called scope.\n",
    "\n",
    "### Local Scope\n",
    "\n",
    "* A variable created inside a function belongs to the local scope of that function, and can only be used inside that function.\n",
    "\n",
    "### Global Scope\n",
    "\n",
    "* A variable created in the main body of the Python code is a global variable and belongs to the global scope.\n",
    "\n",
    "* Global variables are available from within any scope, global and local.\n",
    "\n",
    "### Global Keyword\n",
    "\n",
    "* If you need to create a global variable, but are stuck in the local scope, you can use the global keyword.\n",
    "\n",
    "* The global keyword makes the variable global.\n",
    "\n",
    "### Nonlocal Keyword\n",
    "\n",
    "* The nonlocal keyword is used to work with variables inside nested functions.\n",
    "\n",
    "* The nonlocal keyword makes the variable belong to the outer function.\n",
    "\n"
   ]
  },
  {
   "cell_type": "code",
   "execution_count": null,
   "metadata": {
    "id": "aVorggMleLap"
   },
   "outputs": [],
   "source": [
    "# Local Scope\n",
    "\n",
    "\n",
    "def myfunc():\n",
    "  x = 300\n",
    "  print(x)\n",
    "\n",
    "myfunc()\n",
    "\n",
    "def myfunc():\n",
    "  x = 300\n",
    "  def myinnerfunc():\n",
    "    print(x)\n",
    "  myinnerfunc()\n",
    "\n",
    "myfunc()\n",
    "\n"
   ]
  },
  {
   "cell_type": "code",
   "execution_count": null,
   "metadata": {
    "colab": {
     "base_uri": "https://localhost:8080/"
    },
    "id": "X-DaVHdWegbo",
    "outputId": "c51f2ae6-e90a-4f46-9e40-501e03af4829"
   },
   "outputs": [
    {
     "name": "stdout",
     "output_type": "stream",
     "text": [
      "200\n",
      "300\n"
     ]
    }
   ],
   "source": [
    "# Global scope\n",
    "\n",
    "x = 300\n",
    "\n",
    "def myfunc():\n",
    "  x = 200\n",
    "  print(x)\n",
    "\n",
    "myfunc()\n",
    "\n",
    "print(x)"
   ]
  },
  {
   "cell_type": "code",
   "execution_count": null,
   "metadata": {
    "colab": {
     "base_uri": "https://localhost:8080/"
    },
    "id": "JjVdhk-UelSn",
    "outputId": "56169b7b-a3d3-4966-a851-4ae2caf8d162"
   },
   "outputs": [
    {
     "name": "stdout",
     "output_type": "stream",
     "text": [
      "300\n"
     ]
    }
   ],
   "source": [
    "# Global Keyword\n",
    "\n",
    "def myfunc():\n",
    "  global x\n",
    "  x = 300\n",
    "\n",
    "myfunc()\n",
    "\n",
    "print(x)"
   ]
  },
  {
   "cell_type": "code",
   "execution_count": null,
   "metadata": {
    "colab": {
     "base_uri": "https://localhost:8080/"
    },
    "id": "cvWeIqVUe4wx",
    "outputId": "79d2e701-7fec-41a4-9f12-8d109433e387"
   },
   "outputs": [
    {
     "name": "stdout",
     "output_type": "stream",
     "text": [
      "hello\n"
     ]
    }
   ],
   "source": [
    "# nonlocal keyword\n",
    "\n",
    "def myfunc1():\n",
    "  x = \"Jane\"\n",
    "  def myfunc2():\n",
    "    nonlocal x\n",
    "    x = \"hello\"\n",
    "  myfunc2()\n",
    "  return x\n",
    "\n",
    "print(myfunc1()) # hello"
   ]
  }
 ],
 "metadata": {
  "colab": {
   "authorship_tag": "ABX9TyP44QaWbA4+fbm2sZJotyGu",
   "collapsed_sections": [
    "EDxhhpWAmW4L",
    "QTEC4unvsy7H",
    "00f0_5LAvIQb",
    "whr60lphi2k2",
    "hcRh5nUFkygU"
   ],
   "include_colab_link": true,
   "provenance": [],
   "toc_visible": true
  },
  "kernelspec": {
   "display_name": "Python 3 (ipykernel)",
   "language": "python",
   "name": "python3"
  },
  "language_info": {
   "codemirror_mode": {
    "name": "ipython",
    "version": 3
   },
   "file_extension": ".py",
   "mimetype": "text/x-python",
   "name": "python",
   "nbconvert_exporter": "python",
   "pygments_lexer": "ipython3",
   "version": "3.12.5"
  }
 },
 "nbformat": 4,
 "nbformat_minor": 4
}
